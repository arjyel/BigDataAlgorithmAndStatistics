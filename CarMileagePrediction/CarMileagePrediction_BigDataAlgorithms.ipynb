{
 "cells": [
  {
   "cell_type": "markdown",
   "id": "ef85e85b",
   "metadata": {},
   "source": [
    "### Final Project BDM 2053 - Big Data Algorithms and Statistic 01 \n",
    "\n",
    "### Shreebatsa Aryal c0859473\n",
    "\n",
    "#### Project on Prediction of mileage of the cars\n"
   ]
  },
  {
   "cell_type": "markdown",
   "id": "799e2128",
   "metadata": {},
   "source": [
    "### Introduction\n",
    "\n",
    "The data is technical spec of cars which illustrates the specification of car.\n",
    "\n",
    "It has snapshots of car’s essential details.\n",
    "\n",
    " Car specs typically fall into construction, operation, and performance categories\n",
    "\n",
    "It illustrates Mileage (miles per gallon) performances of various cars.\n",
    "\n",
    "The data concerns city-cycle fuel consumption in miles per gallon, to be predicted in terms of 3 multivalued discrete and 5 continuous attributes.\n",
    "\n",
    "The dataset is available in https://www.kaggle.com/datasets/uciml/autompg-dataset\n",
    "\n",
    "#### The description and features of dataset are shown below. The features is also elucidated by analysing  the dataset\n",
    "##### Attribute Information:\n",
    "\n",
    "mpg: It is the fuel consumption in miles per gallon which is continuous numerical data.\n",
    "\n",
    "cylinders: It represents the number of cylinders the car contains. It has multi-valued discrete value.\n",
    "\n",
    "displacement: It is the distance travelled by the car which is continuous numerical data. \n",
    "\n",
    "horsepower: It represents the the power an engine produces. It has continuous numerical data.\n",
    "\n",
    "weight: It represents the weight of the car. It has continuous numerical data.\n",
    "\n",
    "acceleration: It is the change in velocity per unit time. It has continuous numerical data.\n",
    "\n",
    "model year: It represents the model year of the car manufactured. It has multi-valued discrete value.\n",
    "\n",
    "origin: multi-valued discrete,\n",
    "\n",
    "car name: It is the name of the car or brand name. It has textual data which is string."
   ]
  },
  {
   "cell_type": "markdown",
   "id": "2fe3d7c7",
   "metadata": {},
   "source": [
    "### Key variables\n",
    "\n",
    "#### Target Variable (Y-value)\n",
    "\n",
    "mpg\t\n",
    "\n",
    "#### Predictors (X- values)\n",
    "\n",
    "cylinders\t\n",
    "\n",
    "displacement\t\n",
    "\n",
    "horsepower\t\n",
    "\n",
    "weight\t\n",
    "\n",
    "Acceleration\n",
    "\n",
    "model year\t\n",
    "\n",
    "Origin\n",
    "\n",
    "car name"
   ]
  },
  {
   "cell_type": "markdown",
   "id": "5df72c91",
   "metadata": {},
   "source": [
    "### Data Loading"
   ]
  },
  {
   "cell_type": "code",
   "execution_count": 1,
   "id": "7fb6d157",
   "metadata": {},
   "outputs": [],
   "source": [
    "import pandas as pd\n",
    "from sklearn.linear_model import Lasso, LinearRegression\n",
    "from sklearn.ensemble import RandomForestRegressor\n",
    "import numpy as np\n",
    "import mummify\n",
    "import matplotlib.pyplot as plt\n",
    "from scipy.stats import shapiro\n",
    "import seaborn as sns\n",
    "from scipy import stats\n",
    "\n",
    "%matplotlib inline"
   ]
  },
  {
   "cell_type": "code",
   "execution_count": 2,
   "id": "8df9ebd9",
   "metadata": {},
   "outputs": [
    {
     "data": {
      "text/html": [
       "<div>\n",
       "<style scoped>\n",
       "    .dataframe tbody tr th:only-of-type {\n",
       "        vertical-align: middle;\n",
       "    }\n",
       "\n",
       "    .dataframe tbody tr th {\n",
       "        vertical-align: top;\n",
       "    }\n",
       "\n",
       "    .dataframe thead th {\n",
       "        text-align: right;\n",
       "    }\n",
       "</style>\n",
       "<table border=\"1\" class=\"dataframe\">\n",
       "  <thead>\n",
       "    <tr style=\"text-align: right;\">\n",
       "      <th></th>\n",
       "      <th>mpg</th>\n",
       "      <th>cylinders</th>\n",
       "      <th>displacement</th>\n",
       "      <th>horsepower</th>\n",
       "      <th>weight</th>\n",
       "      <th>acceleration</th>\n",
       "      <th>model year</th>\n",
       "      <th>origin</th>\n",
       "      <th>car name</th>\n",
       "    </tr>\n",
       "  </thead>\n",
       "  <tbody>\n",
       "    <tr>\n",
       "      <th>0</th>\n",
       "      <td>18.0</td>\n",
       "      <td>8</td>\n",
       "      <td>307.0</td>\n",
       "      <td>130</td>\n",
       "      <td>3504</td>\n",
       "      <td>12.0</td>\n",
       "      <td>70</td>\n",
       "      <td>1</td>\n",
       "      <td>chevrolet chevelle malibu</td>\n",
       "    </tr>\n",
       "    <tr>\n",
       "      <th>1</th>\n",
       "      <td>15.0</td>\n",
       "      <td>8</td>\n",
       "      <td>350.0</td>\n",
       "      <td>165</td>\n",
       "      <td>3693</td>\n",
       "      <td>11.5</td>\n",
       "      <td>70</td>\n",
       "      <td>1</td>\n",
       "      <td>buick skylark 320</td>\n",
       "    </tr>\n",
       "    <tr>\n",
       "      <th>2</th>\n",
       "      <td>18.0</td>\n",
       "      <td>8</td>\n",
       "      <td>318.0</td>\n",
       "      <td>150</td>\n",
       "      <td>3436</td>\n",
       "      <td>11.0</td>\n",
       "      <td>70</td>\n",
       "      <td>1</td>\n",
       "      <td>plymouth satellite</td>\n",
       "    </tr>\n",
       "    <tr>\n",
       "      <th>3</th>\n",
       "      <td>16.0</td>\n",
       "      <td>8</td>\n",
       "      <td>304.0</td>\n",
       "      <td>150</td>\n",
       "      <td>3433</td>\n",
       "      <td>12.0</td>\n",
       "      <td>70</td>\n",
       "      <td>1</td>\n",
       "      <td>amc rebel sst</td>\n",
       "    </tr>\n",
       "    <tr>\n",
       "      <th>4</th>\n",
       "      <td>17.0</td>\n",
       "      <td>8</td>\n",
       "      <td>302.0</td>\n",
       "      <td>140</td>\n",
       "      <td>3449</td>\n",
       "      <td>10.5</td>\n",
       "      <td>70</td>\n",
       "      <td>1</td>\n",
       "      <td>ford torino</td>\n",
       "    </tr>\n",
       "    <tr>\n",
       "      <th>...</th>\n",
       "      <td>...</td>\n",
       "      <td>...</td>\n",
       "      <td>...</td>\n",
       "      <td>...</td>\n",
       "      <td>...</td>\n",
       "      <td>...</td>\n",
       "      <td>...</td>\n",
       "      <td>...</td>\n",
       "      <td>...</td>\n",
       "    </tr>\n",
       "    <tr>\n",
       "      <th>393</th>\n",
       "      <td>27.0</td>\n",
       "      <td>4</td>\n",
       "      <td>140.0</td>\n",
       "      <td>86</td>\n",
       "      <td>2790</td>\n",
       "      <td>15.6</td>\n",
       "      <td>82</td>\n",
       "      <td>1</td>\n",
       "      <td>ford mustang gl</td>\n",
       "    </tr>\n",
       "    <tr>\n",
       "      <th>394</th>\n",
       "      <td>44.0</td>\n",
       "      <td>4</td>\n",
       "      <td>97.0</td>\n",
       "      <td>52</td>\n",
       "      <td>2130</td>\n",
       "      <td>24.6</td>\n",
       "      <td>82</td>\n",
       "      <td>2</td>\n",
       "      <td>vw pickup</td>\n",
       "    </tr>\n",
       "    <tr>\n",
       "      <th>395</th>\n",
       "      <td>32.0</td>\n",
       "      <td>4</td>\n",
       "      <td>135.0</td>\n",
       "      <td>84</td>\n",
       "      <td>2295</td>\n",
       "      <td>11.6</td>\n",
       "      <td>82</td>\n",
       "      <td>1</td>\n",
       "      <td>dodge rampage</td>\n",
       "    </tr>\n",
       "    <tr>\n",
       "      <th>396</th>\n",
       "      <td>28.0</td>\n",
       "      <td>4</td>\n",
       "      <td>120.0</td>\n",
       "      <td>79</td>\n",
       "      <td>2625</td>\n",
       "      <td>18.6</td>\n",
       "      <td>82</td>\n",
       "      <td>1</td>\n",
       "      <td>ford ranger</td>\n",
       "    </tr>\n",
       "    <tr>\n",
       "      <th>397</th>\n",
       "      <td>31.0</td>\n",
       "      <td>4</td>\n",
       "      <td>119.0</td>\n",
       "      <td>82</td>\n",
       "      <td>2720</td>\n",
       "      <td>19.4</td>\n",
       "      <td>82</td>\n",
       "      <td>1</td>\n",
       "      <td>chevy s-10</td>\n",
       "    </tr>\n",
       "  </tbody>\n",
       "</table>\n",
       "<p>398 rows × 9 columns</p>\n",
       "</div>"
      ],
      "text/plain": [
       "      mpg  cylinders  displacement horsepower  weight  acceleration  \\\n",
       "0    18.0          8         307.0        130    3504          12.0   \n",
       "1    15.0          8         350.0        165    3693          11.5   \n",
       "2    18.0          8         318.0        150    3436          11.0   \n",
       "3    16.0          8         304.0        150    3433          12.0   \n",
       "4    17.0          8         302.0        140    3449          10.5   \n",
       "..    ...        ...           ...        ...     ...           ...   \n",
       "393  27.0          4         140.0         86    2790          15.6   \n",
       "394  44.0          4          97.0         52    2130          24.6   \n",
       "395  32.0          4         135.0         84    2295          11.6   \n",
       "396  28.0          4         120.0         79    2625          18.6   \n",
       "397  31.0          4         119.0         82    2720          19.4   \n",
       "\n",
       "     model year  origin                   car name  \n",
       "0            70       1  chevrolet chevelle malibu  \n",
       "1            70       1          buick skylark 320  \n",
       "2            70       1         plymouth satellite  \n",
       "3            70       1              amc rebel sst  \n",
       "4            70       1                ford torino  \n",
       "..          ...     ...                        ...  \n",
       "393          82       1            ford mustang gl  \n",
       "394          82       2                  vw pickup  \n",
       "395          82       1              dodge rampage  \n",
       "396          82       1                ford ranger  \n",
       "397          82       1                 chevy s-10  \n",
       "\n",
       "[398 rows x 9 columns]"
      ]
     },
     "execution_count": 2,
     "metadata": {},
     "output_type": "execute_result"
    }
   ],
   "source": [
    "dfauto=pd.read_csv('auto-mpg.csv')\n",
    "dfauto"
   ]
  },
  {
   "cell_type": "code",
   "execution_count": 3,
   "id": "e64a7896",
   "metadata": {},
   "outputs": [
    {
     "name": "stdout",
     "output_type": "stream",
     "text": [
      "<class 'pandas.core.frame.DataFrame'>\n",
      "RangeIndex: 398 entries, 0 to 397\n",
      "Data columns (total 9 columns):\n",
      " #   Column        Non-Null Count  Dtype  \n",
      "---  ------        --------------  -----  \n",
      " 0   mpg           398 non-null    float64\n",
      " 1   cylinders     398 non-null    int64  \n",
      " 2   displacement  398 non-null    float64\n",
      " 3   horsepower    398 non-null    object \n",
      " 4   weight        398 non-null    int64  \n",
      " 5   acceleration  398 non-null    float64\n",
      " 6   model year    398 non-null    int64  \n",
      " 7   origin        398 non-null    int64  \n",
      " 8   car name      398 non-null    object \n",
      "dtypes: float64(3), int64(4), object(2)\n",
      "memory usage: 28.1+ KB\n"
     ]
    }
   ],
   "source": [
    "dfauto.info()"
   ]
  },
  {
   "cell_type": "code",
   "execution_count": 4,
   "id": "c1c4c5b3",
   "metadata": {},
   "outputs": [
    {
     "data": {
      "text/plain": [
       "(398, 9)"
      ]
     },
     "execution_count": 4,
     "metadata": {},
     "output_type": "execute_result"
    }
   ],
   "source": [
    "dfauto.shape"
   ]
  },
  {
   "cell_type": "markdown",
   "id": "276b341e",
   "metadata": {},
   "source": [
    "### Data Exploration"
   ]
  },
  {
   "cell_type": "markdown",
   "id": "f2903a51",
   "metadata": {},
   "source": [
    "## Data Preprocessing"
   ]
  },
  {
   "cell_type": "code",
   "execution_count": 5,
   "id": "985ae6be",
   "metadata": {},
   "outputs": [
    {
     "data": {
      "text/html": [
       "<div>\n",
       "<style scoped>\n",
       "    .dataframe tbody tr th:only-of-type {\n",
       "        vertical-align: middle;\n",
       "    }\n",
       "\n",
       "    .dataframe tbody tr th {\n",
       "        vertical-align: top;\n",
       "    }\n",
       "\n",
       "    .dataframe thead th {\n",
       "        text-align: right;\n",
       "    }\n",
       "</style>\n",
       "<table border=\"1\" class=\"dataframe\">\n",
       "  <thead>\n",
       "    <tr style=\"text-align: right;\">\n",
       "      <th></th>\n",
       "      <th>mpg</th>\n",
       "      <th>cylinders</th>\n",
       "      <th>displacement</th>\n",
       "      <th>horsepower</th>\n",
       "      <th>weight</th>\n",
       "      <th>acceleration</th>\n",
       "      <th>model year</th>\n",
       "      <th>origin</th>\n",
       "    </tr>\n",
       "  </thead>\n",
       "  <tbody>\n",
       "    <tr>\n",
       "      <th>0</th>\n",
       "      <td>18.0</td>\n",
       "      <td>8</td>\n",
       "      <td>307.0</td>\n",
       "      <td>130</td>\n",
       "      <td>3504</td>\n",
       "      <td>12.0</td>\n",
       "      <td>70</td>\n",
       "      <td>1</td>\n",
       "    </tr>\n",
       "    <tr>\n",
       "      <th>1</th>\n",
       "      <td>15.0</td>\n",
       "      <td>8</td>\n",
       "      <td>350.0</td>\n",
       "      <td>165</td>\n",
       "      <td>3693</td>\n",
       "      <td>11.5</td>\n",
       "      <td>70</td>\n",
       "      <td>1</td>\n",
       "    </tr>\n",
       "    <tr>\n",
       "      <th>2</th>\n",
       "      <td>18.0</td>\n",
       "      <td>8</td>\n",
       "      <td>318.0</td>\n",
       "      <td>150</td>\n",
       "      <td>3436</td>\n",
       "      <td>11.0</td>\n",
       "      <td>70</td>\n",
       "      <td>1</td>\n",
       "    </tr>\n",
       "    <tr>\n",
       "      <th>3</th>\n",
       "      <td>16.0</td>\n",
       "      <td>8</td>\n",
       "      <td>304.0</td>\n",
       "      <td>150</td>\n",
       "      <td>3433</td>\n",
       "      <td>12.0</td>\n",
       "      <td>70</td>\n",
       "      <td>1</td>\n",
       "    </tr>\n",
       "    <tr>\n",
       "      <th>4</th>\n",
       "      <td>17.0</td>\n",
       "      <td>8</td>\n",
       "      <td>302.0</td>\n",
       "      <td>140</td>\n",
       "      <td>3449</td>\n",
       "      <td>10.5</td>\n",
       "      <td>70</td>\n",
       "      <td>1</td>\n",
       "    </tr>\n",
       "    <tr>\n",
       "      <th>...</th>\n",
       "      <td>...</td>\n",
       "      <td>...</td>\n",
       "      <td>...</td>\n",
       "      <td>...</td>\n",
       "      <td>...</td>\n",
       "      <td>...</td>\n",
       "      <td>...</td>\n",
       "      <td>...</td>\n",
       "    </tr>\n",
       "    <tr>\n",
       "      <th>393</th>\n",
       "      <td>27.0</td>\n",
       "      <td>4</td>\n",
       "      <td>140.0</td>\n",
       "      <td>86</td>\n",
       "      <td>2790</td>\n",
       "      <td>15.6</td>\n",
       "      <td>82</td>\n",
       "      <td>1</td>\n",
       "    </tr>\n",
       "    <tr>\n",
       "      <th>394</th>\n",
       "      <td>44.0</td>\n",
       "      <td>4</td>\n",
       "      <td>97.0</td>\n",
       "      <td>52</td>\n",
       "      <td>2130</td>\n",
       "      <td>24.6</td>\n",
       "      <td>82</td>\n",
       "      <td>2</td>\n",
       "    </tr>\n",
       "    <tr>\n",
       "      <th>395</th>\n",
       "      <td>32.0</td>\n",
       "      <td>4</td>\n",
       "      <td>135.0</td>\n",
       "      <td>84</td>\n",
       "      <td>2295</td>\n",
       "      <td>11.6</td>\n",
       "      <td>82</td>\n",
       "      <td>1</td>\n",
       "    </tr>\n",
       "    <tr>\n",
       "      <th>396</th>\n",
       "      <td>28.0</td>\n",
       "      <td>4</td>\n",
       "      <td>120.0</td>\n",
       "      <td>79</td>\n",
       "      <td>2625</td>\n",
       "      <td>18.6</td>\n",
       "      <td>82</td>\n",
       "      <td>1</td>\n",
       "    </tr>\n",
       "    <tr>\n",
       "      <th>397</th>\n",
       "      <td>31.0</td>\n",
       "      <td>4</td>\n",
       "      <td>119.0</td>\n",
       "      <td>82</td>\n",
       "      <td>2720</td>\n",
       "      <td>19.4</td>\n",
       "      <td>82</td>\n",
       "      <td>1</td>\n",
       "    </tr>\n",
       "  </tbody>\n",
       "</table>\n",
       "<p>398 rows × 8 columns</p>\n",
       "</div>"
      ],
      "text/plain": [
       "      mpg  cylinders  displacement horsepower  weight  acceleration  \\\n",
       "0    18.0          8         307.0        130    3504          12.0   \n",
       "1    15.0          8         350.0        165    3693          11.5   \n",
       "2    18.0          8         318.0        150    3436          11.0   \n",
       "3    16.0          8         304.0        150    3433          12.0   \n",
       "4    17.0          8         302.0        140    3449          10.5   \n",
       "..    ...        ...           ...        ...     ...           ...   \n",
       "393  27.0          4         140.0         86    2790          15.6   \n",
       "394  44.0          4          97.0         52    2130          24.6   \n",
       "395  32.0          4         135.0         84    2295          11.6   \n",
       "396  28.0          4         120.0         79    2625          18.6   \n",
       "397  31.0          4         119.0         82    2720          19.4   \n",
       "\n",
       "     model year  origin  \n",
       "0            70       1  \n",
       "1            70       1  \n",
       "2            70       1  \n",
       "3            70       1  \n",
       "4            70       1  \n",
       "..          ...     ...  \n",
       "393          82       1  \n",
       "394          82       2  \n",
       "395          82       1  \n",
       "396          82       1  \n",
       "397          82       1  \n",
       "\n",
       "[398 rows x 8 columns]"
      ]
     },
     "execution_count": 5,
     "metadata": {},
     "output_type": "execute_result"
    }
   ],
   "source": [
    "#Field 'car name' has texual data, so since it is in string I am neglecting it\n",
    "dfauto=dfauto.drop(['car name'], axis=1)\n",
    "dfauto"
   ]
  },
  {
   "cell_type": "code",
   "execution_count": 6,
   "id": "1b7e439c",
   "metadata": {},
   "outputs": [
    {
     "data": {
      "text/plain": [
       "mpg             0\n",
       "cylinders       0\n",
       "displacement    0\n",
       "horsepower      0\n",
       "weight          0\n",
       "acceleration    0\n",
       "model year      0\n",
       "origin          0\n",
       "dtype: int64"
      ]
     },
     "execution_count": 6,
     "metadata": {},
     "output_type": "execute_result"
    }
   ],
   "source": [
    "dfauto.isnull().sum()\n",
    "#There is no any null value in the dataset"
   ]
  },
  {
   "cell_type": "code",
   "execution_count": 7,
   "id": "dbcbc9c4",
   "metadata": {},
   "outputs": [
    {
     "name": "stdout",
     "output_type": "stream",
     "text": [
      "<class 'pandas.core.frame.DataFrame'>\n",
      "RangeIndex: 398 entries, 0 to 397\n",
      "Data columns (total 8 columns):\n",
      " #   Column        Non-Null Count  Dtype  \n",
      "---  ------        --------------  -----  \n",
      " 0   mpg           398 non-null    float64\n",
      " 1   cylinders     398 non-null    int64  \n",
      " 2   displacement  398 non-null    float64\n",
      " 3   horsepower    398 non-null    object \n",
      " 4   weight        398 non-null    int64  \n",
      " 5   acceleration  398 non-null    float64\n",
      " 6   model year    398 non-null    int64  \n",
      " 7   origin        398 non-null    int64  \n",
      "dtypes: float64(3), int64(4), object(1)\n",
      "memory usage: 25.0+ KB\n"
     ]
    }
   ],
   "source": [
    "dfauto.info()"
   ]
  },
  {
   "cell_type": "code",
   "execution_count": 8,
   "id": "58d1c5a6",
   "metadata": {},
   "outputs": [
    {
     "data": {
      "text/html": [
       "<div>\n",
       "<style scoped>\n",
       "    .dataframe tbody tr th:only-of-type {\n",
       "        vertical-align: middle;\n",
       "    }\n",
       "\n",
       "    .dataframe tbody tr th {\n",
       "        vertical-align: top;\n",
       "    }\n",
       "\n",
       "    .dataframe thead th {\n",
       "        text-align: right;\n",
       "    }\n",
       "</style>\n",
       "<table border=\"1\" class=\"dataframe\">\n",
       "  <thead>\n",
       "    <tr style=\"text-align: right;\">\n",
       "      <th></th>\n",
       "      <th>mpg</th>\n",
       "      <th>cylinders</th>\n",
       "      <th>displacement</th>\n",
       "      <th>horsepower</th>\n",
       "      <th>weight</th>\n",
       "      <th>acceleration</th>\n",
       "      <th>model year</th>\n",
       "      <th>origin</th>\n",
       "    </tr>\n",
       "  </thead>\n",
       "  <tbody>\n",
       "    <tr>\n",
       "      <th>32</th>\n",
       "      <td>25.0</td>\n",
       "      <td>4</td>\n",
       "      <td>98.0</td>\n",
       "      <td>?</td>\n",
       "      <td>2046</td>\n",
       "      <td>19.0</td>\n",
       "      <td>71</td>\n",
       "      <td>1</td>\n",
       "    </tr>\n",
       "    <tr>\n",
       "      <th>126</th>\n",
       "      <td>21.0</td>\n",
       "      <td>6</td>\n",
       "      <td>200.0</td>\n",
       "      <td>?</td>\n",
       "      <td>2875</td>\n",
       "      <td>17.0</td>\n",
       "      <td>74</td>\n",
       "      <td>1</td>\n",
       "    </tr>\n",
       "    <tr>\n",
       "      <th>330</th>\n",
       "      <td>40.9</td>\n",
       "      <td>4</td>\n",
       "      <td>85.0</td>\n",
       "      <td>?</td>\n",
       "      <td>1835</td>\n",
       "      <td>17.3</td>\n",
       "      <td>80</td>\n",
       "      <td>2</td>\n",
       "    </tr>\n",
       "    <tr>\n",
       "      <th>336</th>\n",
       "      <td>23.6</td>\n",
       "      <td>4</td>\n",
       "      <td>140.0</td>\n",
       "      <td>?</td>\n",
       "      <td>2905</td>\n",
       "      <td>14.3</td>\n",
       "      <td>80</td>\n",
       "      <td>1</td>\n",
       "    </tr>\n",
       "    <tr>\n",
       "      <th>354</th>\n",
       "      <td>34.5</td>\n",
       "      <td>4</td>\n",
       "      <td>100.0</td>\n",
       "      <td>?</td>\n",
       "      <td>2320</td>\n",
       "      <td>15.8</td>\n",
       "      <td>81</td>\n",
       "      <td>2</td>\n",
       "    </tr>\n",
       "    <tr>\n",
       "      <th>374</th>\n",
       "      <td>23.0</td>\n",
       "      <td>4</td>\n",
       "      <td>151.0</td>\n",
       "      <td>?</td>\n",
       "      <td>3035</td>\n",
       "      <td>20.5</td>\n",
       "      <td>82</td>\n",
       "      <td>1</td>\n",
       "    </tr>\n",
       "  </tbody>\n",
       "</table>\n",
       "</div>"
      ],
      "text/plain": [
       "      mpg  cylinders  displacement horsepower  weight  acceleration  \\\n",
       "32   25.0          4          98.0          ?    2046          19.0   \n",
       "126  21.0          6         200.0          ?    2875          17.0   \n",
       "330  40.9          4          85.0          ?    1835          17.3   \n",
       "336  23.6          4         140.0          ?    2905          14.3   \n",
       "354  34.5          4         100.0          ?    2320          15.8   \n",
       "374  23.0          4         151.0          ?    3035          20.5   \n",
       "\n",
       "     model year  origin  \n",
       "32           71       1  \n",
       "126          74       1  \n",
       "330          80       2  \n",
       "336          80       1  \n",
       "354          81       2  \n",
       "374          82       1  "
      ]
     },
     "execution_count": 8,
     "metadata": {},
     "output_type": "execute_result"
    }
   ],
   "source": [
    "#horsepower has datatype as an 'object'.\n",
    "#So, checking if the column contain any non-numeric data.\n",
    "dfauto[dfauto['horsepower'].str.isnumeric()==False]"
   ]
  },
  {
   "cell_type": "code",
   "execution_count": 9,
   "id": "90f8db26",
   "metadata": {},
   "outputs": [
    {
     "data": {
      "text/plain": [
       "[32, 126, 330, 336, 354, 374]"
      ]
     },
     "execution_count": 9,
     "metadata": {},
     "output_type": "execute_result"
    }
   ],
   "source": [
    "#Capturing the index of the rows which has horsepower = '?'\n",
    "index_NonNumeric= dfauto[dfauto['horsepower'] == '?'].index.tolist()\n",
    "index_NonNumeric"
   ]
  },
  {
   "cell_type": "markdown",
   "id": "48b6cca6",
   "metadata": {},
   "source": [
    "### Imputation on missing values (Median Substitution)\n",
    "\n",
    "Field ‘horsepower’ has non-numeric value ‘?’ \n",
    "\n",
    "The value is replaced by median of the column which is 93.5.\n",
    "\n",
    "Median Substitution is  done because missing data can create problems for analyzing data.\n",
    "\n",
    "Thus, replacing the missing data with median substitute value is done to retain most of the data information of the dataset.\n"
   ]
  },
  {
   "cell_type": "code",
   "execution_count": 10,
   "id": "d64f2609",
   "metadata": {},
   "outputs": [
    {
     "data": {
      "text/html": [
       "<div>\n",
       "<style scoped>\n",
       "    .dataframe tbody tr th:only-of-type {\n",
       "        vertical-align: middle;\n",
       "    }\n",
       "\n",
       "    .dataframe tbody tr th {\n",
       "        vertical-align: top;\n",
       "    }\n",
       "\n",
       "    .dataframe thead th {\n",
       "        text-align: right;\n",
       "    }\n",
       "</style>\n",
       "<table border=\"1\" class=\"dataframe\">\n",
       "  <thead>\n",
       "    <tr style=\"text-align: right;\">\n",
       "      <th></th>\n",
       "      <th>mpg</th>\n",
       "      <th>cylinders</th>\n",
       "      <th>displacement</th>\n",
       "      <th>horsepower</th>\n",
       "      <th>weight</th>\n",
       "      <th>acceleration</th>\n",
       "      <th>model year</th>\n",
       "      <th>origin</th>\n",
       "    </tr>\n",
       "  </thead>\n",
       "  <tbody>\n",
       "    <tr>\n",
       "      <th>32</th>\n",
       "      <td>25.0</td>\n",
       "      <td>4</td>\n",
       "      <td>98.0</td>\n",
       "      <td>93.5</td>\n",
       "      <td>2046</td>\n",
       "      <td>19.0</td>\n",
       "      <td>71</td>\n",
       "      <td>1</td>\n",
       "    </tr>\n",
       "    <tr>\n",
       "      <th>126</th>\n",
       "      <td>21.0</td>\n",
       "      <td>6</td>\n",
       "      <td>200.0</td>\n",
       "      <td>93.5</td>\n",
       "      <td>2875</td>\n",
       "      <td>17.0</td>\n",
       "      <td>74</td>\n",
       "      <td>1</td>\n",
       "    </tr>\n",
       "    <tr>\n",
       "      <th>330</th>\n",
       "      <td>40.9</td>\n",
       "      <td>4</td>\n",
       "      <td>85.0</td>\n",
       "      <td>93.5</td>\n",
       "      <td>1835</td>\n",
       "      <td>17.3</td>\n",
       "      <td>80</td>\n",
       "      <td>2</td>\n",
       "    </tr>\n",
       "    <tr>\n",
       "      <th>336</th>\n",
       "      <td>23.6</td>\n",
       "      <td>4</td>\n",
       "      <td>140.0</td>\n",
       "      <td>93.5</td>\n",
       "      <td>2905</td>\n",
       "      <td>14.3</td>\n",
       "      <td>80</td>\n",
       "      <td>1</td>\n",
       "    </tr>\n",
       "    <tr>\n",
       "      <th>354</th>\n",
       "      <td>34.5</td>\n",
       "      <td>4</td>\n",
       "      <td>100.0</td>\n",
       "      <td>93.5</td>\n",
       "      <td>2320</td>\n",
       "      <td>15.8</td>\n",
       "      <td>81</td>\n",
       "      <td>2</td>\n",
       "    </tr>\n",
       "    <tr>\n",
       "      <th>374</th>\n",
       "      <td>23.0</td>\n",
       "      <td>4</td>\n",
       "      <td>151.0</td>\n",
       "      <td>93.5</td>\n",
       "      <td>3035</td>\n",
       "      <td>20.5</td>\n",
       "      <td>82</td>\n",
       "      <td>1</td>\n",
       "    </tr>\n",
       "  </tbody>\n",
       "</table>\n",
       "</div>"
      ],
      "text/plain": [
       "      mpg  cylinders  displacement horsepower  weight  acceleration  \\\n",
       "32   25.0          4          98.0       93.5    2046          19.0   \n",
       "126  21.0          6         200.0       93.5    2875          17.0   \n",
       "330  40.9          4          85.0       93.5    1835          17.3   \n",
       "336  23.6          4         140.0       93.5    2905          14.3   \n",
       "354  34.5          4         100.0       93.5    2320          15.8   \n",
       "374  23.0          4         151.0       93.5    3035          20.5   \n",
       "\n",
       "     model year  origin  \n",
       "32           71       1  \n",
       "126          74       1  \n",
       "330          80       2  \n",
       "336          80       1  \n",
       "354          81       2  \n",
       "374          82       1  "
      ]
     },
     "execution_count": 10,
     "metadata": {},
     "output_type": "execute_result"
    }
   ],
   "source": [
    "dfauto=dfauto.replace('?',np.nan)\n",
    "dfauto=dfauto.apply(lambda x: x.fillna(x.median()),axis=0)\n",
    "\n",
    "dfauto.loc[index_NonNumeric]"
   ]
  },
  {
   "cell_type": "markdown",
   "id": "09f1d314",
   "metadata": {},
   "source": [
    "### Variable Transformation\n",
    "Changing datatype of ‘horsepower’ from string to float. This is done because we need numerical value for the calculation of statistical methods"
   ]
  },
  {
   "cell_type": "code",
   "execution_count": 11,
   "id": "a598302c",
   "metadata": {},
   "outputs": [
    {
     "name": "stdout",
     "output_type": "stream",
     "text": [
      "<class 'pandas.core.frame.DataFrame'>\n",
      "RangeIndex: 398 entries, 0 to 397\n",
      "Data columns (total 8 columns):\n",
      " #   Column        Non-Null Count  Dtype  \n",
      "---  ------        --------------  -----  \n",
      " 0   mpg           398 non-null    float64\n",
      " 1   cylinders     398 non-null    int64  \n",
      " 2   displacement  398 non-null    float64\n",
      " 3   horsepower    398 non-null    float64\n",
      " 4   weight        398 non-null    int64  \n",
      " 5   acceleration  398 non-null    float64\n",
      " 6   model year    398 non-null    int64  \n",
      " 7   origin        398 non-null    int64  \n",
      "dtypes: float64(4), int64(4)\n",
      "memory usage: 25.0 KB\n"
     ]
    }
   ],
   "source": [
    "#Though horsepower has continuous value the datatype shown is 'object'\n",
    "#changing datatype of horsepower from string to float for calculation\n",
    "dfauto['horsepower'] = dfauto['horsepower'].astype(str).astype(float)\n",
    "dfauto.info()"
   ]
  },
  {
   "cell_type": "markdown",
   "id": "22805310",
   "metadata": {},
   "source": [
    "### Data Visualization"
   ]
  },
  {
   "cell_type": "code",
   "execution_count": 12,
   "id": "c52f4394",
   "metadata": {},
   "outputs": [
    {
     "name": "stderr",
     "output_type": "stream",
     "text": [
      "C:\\Users\\Arjyel\\AppData\\Roaming\\Python\\Python310\\site-packages\\seaborn\\distributions.py:2619: FutureWarning: `distplot` is a deprecated function and will be removed in a future version. Please adapt your code to use either `displot` (a figure-level function with similar flexibility) or `histplot` (an axes-level function for histograms).\n",
      "  warnings.warn(msg, FutureWarning)\n"
     ]
    },
    {
     "data": {
      "text/plain": [
       "Text(0.5, 1.0, 'Distribution of MPG')"
      ]
     },
     "execution_count": 12,
     "metadata": {},
     "output_type": "execute_result"
    },
    {
     "data": {
      "image/png": "[encoded data removed]",
      "text/plain": [
       "<Figure size 864x576 with 1 Axes>"
      ]
     },
     "metadata": {},
     "output_type": "display_data"
    }
   ],
   "source": [
    "sns.set(style='whitegrid')\n",
    "f, ax = plt.subplots(1,1, figsize=(12, 8))\n",
    "ax = sns.distplot(dfauto['mpg'], kde = True, color = 'c')\n",
    "plt.title('Distribution of MPG')"
   ]
  },
  {
   "cell_type": "markdown",
   "id": "f2688c18",
   "metadata": {},
   "source": [
    "A skewed distribution occurs when one tail is longer than the other.\n",
    "\n",
    "The diagram shows the distribution of mpg which is Right skewed distributions.\n",
    "\n",
    "Such distribution occur when the long tail is on the right side of the distribution. It is also referred as positively skewed."
   ]
  },
  {
   "cell_type": "code",
   "execution_count": 13,
   "id": "a0753db7",
   "metadata": {},
   "outputs": [
    {
     "data": {
      "image/png": "[encoded data removed]",
      "text/plain": [
       "<Figure size 1080x1080 with 8 Axes>"
      ]
     },
     "metadata": {},
     "output_type": "display_data"
    }
   ],
   "source": [
    "#Box-Plot\n",
    "def plotBoxplot(data):\n",
    "    fig, axes = plt.subplots(ncols=2, nrows=4, figsize=(15,15))\n",
    "    fig.tight_layout(pad=4.0)\n",
    "\n",
    "    col = 0\n",
    "    row = 0\n",
    "    colors = ['#bad9e9', '#7ab6d6', '#3c8abd']\n",
    "\n",
    "    for i, column in enumerate(data.columns):\n",
    "        sns.boxplot(y=column, data=data, ax=axes[row][col], color=colors[col])\n",
    "\n",
    "        if (i + 1) % 2 == 0:\n",
    "            row += 1\n",
    "            col = 0\n",
    "        else:\n",
    "            col += 1\n",
    "            \n",
    "plotBoxplot(dfauto)"
   ]
  },
  {
   "cell_type": "markdown",
   "id": "eaaa8e8a",
   "metadata": {},
   "source": [
    "#### Some outliers are seen on accelaration and horsepower , but they are not too eccentric which could make difference in data distribution. Thus, are taken into consideration and not neglected."
   ]
  },
  {
   "cell_type": "code",
   "execution_count": 14,
   "id": "10888430",
   "metadata": {},
   "outputs": [
    {
     "data": {
      "text/plain": [
       "<AxesSubplot:xlabel='cylinders', ylabel='mpg'>"
      ]
     },
     "execution_count": 14,
     "metadata": {},
     "output_type": "execute_result"
    },
    {
     "data": {
      "image/png": "[encoded data removed]",
      "text/plain": [
       "<Figure size 720x432 with 1 Axes>"
      ]
     },
     "metadata": {},
     "output_type": "display_data"
    }
   ],
   "source": [
    "fig = plt.figure(figsize = (10,6))\n",
    "sns.barplot(x = 'cylinders', y = 'mpg', data = dfauto)"
   ]
  },
  {
   "cell_type": "markdown",
   "id": "0879b389",
   "metadata": {},
   "source": [
    "##### As number of cylinder increases, mpg decreases. Thus, cylinder has indirect relationship with mpg"
   ]
  },
  {
   "cell_type": "code",
   "execution_count": 15,
   "id": "029606ba",
   "metadata": {},
   "outputs": [
    {
     "data": {
      "text/plain": [
       "<AxesSubplot:xlabel='displacement', ylabel='mpg'>"
      ]
     },
     "execution_count": 15,
     "metadata": {},
     "output_type": "execute_result"
    },
    {
     "data": {
      "image/png": "[encoded data removed]",
      "text/plain": [
       "<Figure size 720x432 with 1 Axes>"
      ]
     },
     "metadata": {},
     "output_type": "display_data"
    }
   ],
   "source": [
    "fig = plt.figure(figsize = (10,6))\n",
    "sns.barplot(x = 'displacement', y = 'mpg', data = dfauto)"
   ]
  },
  {
   "cell_type": "markdown",
   "id": "031ca2ea",
   "metadata": {},
   "source": [
    "##### As value of displacement increases, mpg decreases. Thus, displacement has indirect relationship with mpg"
   ]
  },
  {
   "cell_type": "code",
   "execution_count": 16,
   "id": "674fb8f9",
   "metadata": {},
   "outputs": [
    {
     "data": {
      "text/plain": [
       "<AxesSubplot:xlabel='horsepower', ylabel='mpg'>"
      ]
     },
     "execution_count": 16,
     "metadata": {},
     "output_type": "execute_result"
    },
    {
     "data": {
      "image/png": "[encoded data removed]",
      "text/plain": [
       "<Figure size 720x432 with 1 Axes>"
      ]
     },
     "metadata": {},
     "output_type": "display_data"
    }
   ],
   "source": [
    "fig = plt.figure(figsize = (10,6))\n",
    "sns.barplot(x = 'horsepower', y = 'mpg', data = dfauto)"
   ]
  },
  {
   "cell_type": "markdown",
   "id": "cec07a1f",
   "metadata": {},
   "source": [
    "##### As value of horsepower increases, mpg decreases. Thus, horsepower has indirect relationship with mpg"
   ]
  },
  {
   "cell_type": "code",
   "execution_count": 17,
   "id": "b9f7f3d1",
   "metadata": {},
   "outputs": [
    {
     "data": {
      "text/plain": [
       "<AxesSubplot:xlabel='weight', ylabel='mpg'>"
      ]
     },
     "execution_count": 17,
     "metadata": {},
     "output_type": "execute_result"
    },
    {
     "data": {
      "image/png": "[encoded data removed]",
      "text/plain": [
       "<Figure size 720x432 with 1 Axes>"
      ]
     },
     "metadata": {},
     "output_type": "display_data"
    }
   ],
   "source": [
    "fig = plt.figure(figsize = (10,6))\n",
    "sns.barplot(x = 'weight', y = 'mpg', data = dfauto)"
   ]
  },
  {
   "cell_type": "markdown",
   "id": "a36b675c",
   "metadata": {},
   "source": [
    "##### As value of weight increases, mpg decreases. Thus, weight has indirect relationship with mpg"
   ]
  },
  {
   "cell_type": "code",
   "execution_count": 18,
   "id": "0f6ec11c",
   "metadata": {},
   "outputs": [
    {
     "data": {
      "text/plain": [
       "<AxesSubplot:xlabel='acceleration', ylabel='mpg'>"
      ]
     },
     "execution_count": 18,
     "metadata": {},
     "output_type": "execute_result"
    },
    {
     "data": {
      "image/png": "[encoded data removed]",
      "text/plain": [
       "<Figure size 720x432 with 1 Axes>"
      ]
     },
     "metadata": {},
     "output_type": "display_data"
    }
   ],
   "source": [
    "fig = plt.figure(figsize = (10,6))\n",
    "sns.barplot(x = 'acceleration', y = 'mpg', data = dfauto)"
   ]
  },
  {
   "cell_type": "markdown",
   "id": "f12623a5",
   "metadata": {},
   "source": [
    "##### There is direct relationship of mpg with acceleration.  As acceleration increases , mpg also increases.\n"
   ]
  },
  {
   "cell_type": "code",
   "execution_count": 19,
   "id": "0c0238cb",
   "metadata": {},
   "outputs": [
    {
     "data": {
      "text/plain": [
       "<AxesSubplot:xlabel='model year', ylabel='mpg'>"
      ]
     },
     "execution_count": 19,
     "metadata": {},
     "output_type": "execute_result"
    },
    {
     "data": {
      "image/png": "[encoded data removed]",
      "text/plain": [
       "<Figure size 720x432 with 1 Axes>"
      ]
     },
     "metadata": {},
     "output_type": "display_data"
    }
   ],
   "source": [
    "fig = plt.figure(figsize = (10,6))\n",
    "sns.barplot(x = 'model year', y = 'mpg', data = dfauto)"
   ]
  },
  {
   "cell_type": "markdown",
   "id": "e94e3b44",
   "metadata": {},
   "source": [
    "#### There is direct relationship of mpg with model year. As model year increases , mpg also increases."
   ]
  },
  {
   "cell_type": "code",
   "execution_count": 20,
   "id": "752c869e",
   "metadata": {},
   "outputs": [
    {
     "data": {
      "text/plain": [
       "<AxesSubplot:xlabel='origin', ylabel='mpg'>"
      ]
     },
     "execution_count": 20,
     "metadata": {},
     "output_type": "execute_result"
    },
    {
     "data": {
      "image/png": "[encoded data removed]",
      "text/plain": [
       "<Figure size 720x432 with 1 Axes>"
      ]
     },
     "metadata": {},
     "output_type": "display_data"
    }
   ],
   "source": [
    "fig = plt.figure(figsize = (10,6))\n",
    "sns.barplot(x = 'origin', y = 'mpg', data = dfauto)"
   ]
  },
  {
   "cell_type": "markdown",
   "id": "dfc05de2",
   "metadata": {},
   "source": [
    "##### There is direct relationship of mpg with origin. As origin increases , mpg also increases."
   ]
  },
  {
   "cell_type": "markdown",
   "id": "0cbc15d8",
   "metadata": {},
   "source": [
    "## Correlation Matrix\n",
    "\n",
    "A correlation matrix is a table that shows correlation coefficients between variables.\n",
    "\n",
    "In the diagram below , each cell shows the correlation between two variables. \n",
    "\n",
    "A correlation matrix is used to summarize data, as an input into a more advanced analysis, and as a diagnostic for advanced analyses.\n"
   ]
  },
  {
   "cell_type": "code",
   "execution_count": 21,
   "id": "5c5afb93",
   "metadata": {},
   "outputs": [
    {
     "data": {
      "text/plain": [
       "<AxesSubplot:>"
      ]
     },
     "execution_count": 21,
     "metadata": {},
     "output_type": "execute_result"
    },
    {
     "data": {
      "image/png": "[encoded data removed]",
      "text/plain": [
       "<Figure size 1080x720 with 2 Axes>"
      ]
     },
     "metadata": {},
     "output_type": "display_data"
    }
   ],
   "source": [
    "#Heatmap to observe the correlation between the independence  variables\n",
    "plt.figure(figsize=(15, 10))\n",
    "sns.heatmap(dfauto.loc[:, dfauto.columns != 'mpg'].corr(), annot=True, cmap='YlGnBu')"
   ]
  },
  {
   "cell_type": "markdown",
   "id": "a1e95b1d",
   "metadata": {},
   "source": [
    " If we see the correlation matrix we can see that cylinders and displacement are highly correlated with the highest value of 0.95,weight and displacement has correlation value of 0.93. If we drop the fields having their correlation value more than 0.9, then curse of dimensionality can be escaped. Since, displacement is common i.e. with both weight and cylinders I am dropping displacement column."
   ]
  },
  {
   "cell_type": "code",
   "execution_count": 22,
   "id": "ada0db0b",
   "metadata": {},
   "outputs": [],
   "source": [
    "#X and Y split\n",
    "#Predictors (Independent Variable)\n",
    "X = dfauto.drop(['mpg','displacement'], axis=1)\n",
    "\n",
    "#Dependent vairable \n",
    "y = dfauto['mpg']"
   ]
  },
  {
   "cell_type": "code",
   "execution_count": 23,
   "id": "3e0a575b",
   "metadata": {},
   "outputs": [
    {
     "data": {
      "text/plain": [
       "<AxesSubplot:>"
      ]
     },
     "execution_count": 23,
     "metadata": {},
     "output_type": "execute_result"
    },
    {
     "data": {
      "image/png": "[encoded data removed]",
      "text/plain": [
       "<Figure size 1080x720 with 2 Axes>"
      ]
     },
     "metadata": {},
     "output_type": "display_data"
    }
   ],
   "source": [
    "plt.figure(figsize=(15, 10))\n",
    "sns.heatmap(X.corr(), annot=True, cmap='YlGnBu')"
   ]
  },
  {
   "cell_type": "markdown",
   "id": "4db0d2bf",
   "metadata": {},
   "source": [
    "### The Final Remaining Features\n",
    "\n",
    "#### Target Variable (Y-value): \n",
    "\n",
    "Mpg\n",
    "\n",
    "\n",
    "#### Predictors (X- values):\n",
    "\n",
    "cylinders\t\n",
    "\n",
    "horsepower\t\n",
    "\n",
    "weight\t\n",
    "\n",
    "Acceleration\n",
    "\n",
    "model year\t\n",
    "\n",
    "Origin\n"
   ]
  },
  {
   "cell_type": "markdown",
   "id": "6f83e323",
   "metadata": {},
   "source": [
    "### Standardization of a dataset\n",
    "\n",
    "StandardScaler has been used which will standardize features by removing the mean and scaling to unit variance.\n",
    "\n",
    "The standard score of a sample x is calculated as:\n",
    "\n",
    "z = (x - u) / s\n",
    "\n",
    "where u is the mean of the training samples or zero if with_mean=False, and s is the standard deviation of the training samples or one if with_std=False.\n",
    "\n",
    "Centering and scaling happen independently on each feature by computing the relevant statistics on the samples in the training set.\n",
    "\n",
    "Mean and standard deviation are stored to be used on later data using transform.\n",
    "\n",
    "Standardization of a dataset is a common requirement for many machine learning estimators: they might behave badly if the individual features do not look like standard normally distributed data."
   ]
  },
  {
   "cell_type": "code",
   "execution_count": 24,
   "id": "f540f966",
   "metadata": {},
   "outputs": [],
   "source": [
    "from sklearn.preprocessing import StandardScaler\n",
    "scaler = StandardScaler()\n",
    "X=scaler.fit_transform(X)"
   ]
  },
  {
   "cell_type": "markdown",
   "id": "89d69f5b",
   "metadata": {},
   "source": [
    "## Using PCA\n",
    "\n",
    "Principal component analysis (PCA) simplifies the complexity in high-dimensional data while retaining trends and patterns. \n",
    "\n",
    "This is done by transforming the data into fewer dimensions, which act as summaries of features.\n",
    "\n",
    "PCA reduces data by geometrically projecting them onto lower dimensions called principal components (PCs), with the goal of finding the best summary of the data using a limited number of PCs.\n"
   ]
  },
  {
   "cell_type": "code",
   "execution_count": 25,
   "id": "348b0de0",
   "metadata": {},
   "outputs": [
    {
     "data": {
      "text/html": [
       "<style>#sk-container-id-1 {color: black;background-color: white;}#sk-container-id-1 pre{padding: 0;}#sk-container-id-1 div.sk-toggleable {background-color: white;}#sk-container-id-1 label.sk-toggleable__label {cursor: pointer;display: block;width: 100%;margin-bottom: 0;padding: 0.3em;box-sizing: border-box;text-align: center;}#sk-container-id-1 label.sk-toggleable__label-arrow:before {content: \"▸\";float: left;margin-right: 0.25em;color: #696969;}#sk-container-id-1 label.sk-toggleable__label-arrow:hover:before {color: black;}#sk-container-id-1 div.sk-estimator:hover label.sk-toggleable__label-arrow:before {color: black;}#sk-container-id-1 div.sk-toggleable__content {max-height: 0;max-width: 0;overflow: hidden;text-align: left;background-color: #f0f8ff;}#sk-container-id-1 div.sk-toggleable__content pre {margin: 0.2em;color: black;border-radius: 0.25em;background-color: #f0f8ff;}#sk-container-id-1 input.sk-toggleable__control:checked~div.sk-toggleable__content {max-height: 200px;max-width: 100%;overflow: auto;}#sk-container-id-1 input.sk-toggleable__control:checked~label.sk-toggleable__label-arrow:before {content: \"▾\";}#sk-container-id-1 div.sk-estimator input.sk-toggleable__control:checked~label.sk-toggleable__label {background-color: #d4ebff;}#sk-container-id-1 div.sk-label input.sk-toggleable__control:checked~label.sk-toggleable__label {background-color: #d4ebff;}#sk-container-id-1 input.sk-hidden--visually {border: 0;clip: rect(1px 1px 1px 1px);clip: rect(1px, 1px, 1px, 1px);height: 1px;margin: -1px;overflow: hidden;padding: 0;position: absolute;width: 1px;}#sk-container-id-1 div.sk-estimator {font-family: monospace;background-color: #f0f8ff;border: 1px dotted black;border-radius: 0.25em;box-sizing: border-box;margin-bottom: 0.5em;}#sk-container-id-1 div.sk-estimator:hover {background-color: #d4ebff;}#sk-container-id-1 div.sk-parallel-item::after {content: \"\";width: 100%;border-bottom: 1px solid gray;flex-grow: 1;}#sk-container-id-1 div.sk-label:hover label.sk-toggleable__label {background-color: #d4ebff;}#sk-container-id-1 div.sk-serial::before {content: \"\";position: absolute;border-left: 1px solid gray;box-sizing: border-box;top: 0;bottom: 0;left: 50%;z-index: 0;}#sk-container-id-1 div.sk-serial {display: flex;flex-direction: column;align-items: center;background-color: white;padding-right: 0.2em;padding-left: 0.2em;position: relative;}#sk-container-id-1 div.sk-item {position: relative;z-index: 1;}#sk-container-id-1 div.sk-parallel {display: flex;align-items: stretch;justify-content: center;background-color: white;position: relative;}#sk-container-id-1 div.sk-item::before, #sk-container-id-1 div.sk-parallel-item::before {content: \"\";position: absolute;border-left: 1px solid gray;box-sizing: border-box;top: 0;bottom: 0;left: 50%;z-index: -1;}#sk-container-id-1 div.sk-parallel-item {display: flex;flex-direction: column;z-index: 1;position: relative;background-color: white;}#sk-container-id-1 div.sk-parallel-item:first-child::after {align-self: flex-end;width: 50%;}#sk-container-id-1 div.sk-parallel-item:last-child::after {align-self: flex-start;width: 50%;}#sk-container-id-1 div.sk-parallel-item:only-child::after {width: 0;}#sk-container-id-1 div.sk-dashed-wrapped {border: 1px dashed gray;margin: 0 0.4em 0.5em 0.4em;box-sizing: border-box;padding-bottom: 0.4em;background-color: white;}#sk-container-id-1 div.sk-label label {font-family: monospace;font-weight: bold;display: inline-block;line-height: 1.2em;}#sk-container-id-1 div.sk-label-container {text-align: center;}#sk-container-id-1 div.sk-container {/* jupyter's `normalize.less` sets `[hidden] { display: none; }` but bootstrap.min.css set `[hidden] { display: none !important; }` so we also need the `!important` here to be able to override the default hidden behavior on the sphinx rendered scikit-learn.org. See: https://github.com/scikit-learn/scikit-learn/issues/21755 */display: inline-block !important;position: relative;}#sk-container-id-1 div.sk-text-repr-fallback {display: none;}</style><div id=\"sk-container-id-1\" class=\"sk-top-container\"><div class=\"sk-text-repr-fallback\"><pre>PCA()</pre><b>In a Jupyter environment, please rerun this cell to show the HTML representation or trust the notebook. <br />On GitHub, the HTML representation is unable to render, please try loading this page with nbviewer.org.</b></div><div class=\"sk-container\" hidden><div class=\"sk-item\"><div class=\"sk-estimator sk-toggleable\"><input class=\"sk-toggleable__control sk-hidden--visually\" id=\"sk-estimator-id-1\" type=\"checkbox\" checked><label for=\"sk-estimator-id-1\" class=\"sk-toggleable__label sk-toggleable__label-arrow\">PCA</label><div class=\"sk-toggleable__content\"><pre>PCA()</pre></div></div></div></div></div>"
      ],
      "text/plain": [
       "PCA()"
      ]
     },
     "execution_count": 25,
     "metadata": {},
     "output_type": "execute_result"
    }
   ],
   "source": [
    "from sklearn.decomposition import PCA\n",
    "pca = PCA()\n",
    "pca.fit(X)"
   ]
  },
  {
   "cell_type": "code",
   "execution_count": 26,
   "id": "bc81fc18",
   "metadata": {},
   "outputs": [
    {
     "data": {
      "text/plain": [
       "array([0.61148594, 0.15453143, 0.12468393, 0.07765499, 0.02135056,\n",
       "       0.01029315])"
      ]
     },
     "execution_count": 26,
     "metadata": {},
     "output_type": "execute_result"
    }
   ],
   "source": [
    "pca.explained_variance_ratio_"
   ]
  },
  {
   "cell_type": "markdown",
   "id": "a0a1193a",
   "metadata": {},
   "source": [
    "##### It is shown there are 6 total of  Component"
   ]
  },
  {
   "cell_type": "code",
   "execution_count": 27,
   "id": "03fe3655",
   "metadata": {},
   "outputs": [
    {
     "data": {
      "text/plain": [
       "Text(0, 0.5, 'Cumulative Explained Variance')"
      ]
     },
     "execution_count": 27,
     "metadata": {},
     "output_type": "execute_result"
    },
    {
     "data": {
      "image/png": "[encoded data removed]",
      "text/plain": [
       "<Figure size 720x576 with 1 Axes>"
      ]
     },
     "metadata": {},
     "output_type": "display_data"
    }
   ],
   "source": [
    "plt.figure(figsize = (10,8))\n",
    "plt.plot(range(1,7), pca.explained_variance_ratio_.cumsum(),marker = 'o', linestyle = '--')\n",
    "plt.title('Explained Variance by Components')\n",
    "plt.xlabel('Number of Components')\n",
    "plt.ylabel('Cumulative Explained Variance')"
   ]
  },
  {
   "cell_type": "markdown",
   "id": "2023e460",
   "metadata": {},
   "source": [
    "##### It is seen that only four component can be taken into consideration which make up to about 95% of cumulative explained variance.\n"
   ]
  },
  {
   "cell_type": "code",
   "execution_count": 28,
   "id": "2d0e7782",
   "metadata": {},
   "outputs": [
    {
     "data": {
      "text/html": [
       "<div>\n",
       "<style scoped>\n",
       "    .dataframe tbody tr th:only-of-type {\n",
       "        vertical-align: middle;\n",
       "    }\n",
       "\n",
       "    .dataframe tbody tr th {\n",
       "        vertical-align: top;\n",
       "    }\n",
       "\n",
       "    .dataframe thead th {\n",
       "        text-align: right;\n",
       "    }\n",
       "</style>\n",
       "<table border=\"1\" class=\"dataframe\">\n",
       "  <thead>\n",
       "    <tr style=\"text-align: right;\">\n",
       "      <th></th>\n",
       "      <th>PC1</th>\n",
       "      <th>PC2</th>\n",
       "      <th>PC3</th>\n",
       "      <th>PC4</th>\n",
       "    </tr>\n",
       "  </thead>\n",
       "  <tbody>\n",
       "    <tr>\n",
       "      <th>0</th>\n",
       "      <td>2.458499</td>\n",
       "      <td>0.898887</td>\n",
       "      <td>0.558448</td>\n",
       "      <td>-0.423715</td>\n",
       "    </tr>\n",
       "    <tr>\n",
       "      <th>1</th>\n",
       "      <td>3.078985</td>\n",
       "      <td>1.033490</td>\n",
       "      <td>0.291333</td>\n",
       "      <td>-0.274644</td>\n",
       "    </tr>\n",
       "    <tr>\n",
       "      <th>2</th>\n",
       "      <td>2.803467</td>\n",
       "      <td>1.143924</td>\n",
       "      <td>0.263812</td>\n",
       "      <td>-0.558292</td>\n",
       "    </tr>\n",
       "    <tr>\n",
       "      <th>3</th>\n",
       "      <td>2.676113</td>\n",
       "      <td>0.976921</td>\n",
       "      <td>0.463794</td>\n",
       "      <td>-0.368593</td>\n",
       "    </tr>\n",
       "    <tr>\n",
       "      <th>4</th>\n",
       "      <td>2.744790</td>\n",
       "      <td>1.194988</td>\n",
       "      <td>0.211261</td>\n",
       "      <td>-0.692055</td>\n",
       "    </tr>\n",
       "    <tr>\n",
       "      <th>...</th>\n",
       "      <td>...</td>\n",
       "      <td>...</td>\n",
       "      <td>...</td>\n",
       "      <td>...</td>\n",
       "    </tr>\n",
       "    <tr>\n",
       "      <th>393</th>\n",
       "      <td>-0.930608</td>\n",
       "      <td>-1.287413</td>\n",
       "      <td>-0.855508</td>\n",
       "      <td>-0.822127</td>\n",
       "    </tr>\n",
       "    <tr>\n",
       "      <th>394</th>\n",
       "      <td>-3.288242</td>\n",
       "      <td>-2.001227</td>\n",
       "      <td>0.703475</td>\n",
       "      <td>1.270056</td>\n",
       "    </tr>\n",
       "    <tr>\n",
       "      <th>395</th>\n",
       "      <td>-0.733164</td>\n",
       "      <td>-0.486275</td>\n",
       "      <td>-1.643532</td>\n",
       "      <td>-1.829605</td>\n",
       "    </tr>\n",
       "    <tr>\n",
       "      <th>396</th>\n",
       "      <td>-1.490928</td>\n",
       "      <td>-1.766160</td>\n",
       "      <td>-0.221573</td>\n",
       "      <td>-0.357864</td>\n",
       "    </tr>\n",
       "    <tr>\n",
       "      <th>397</th>\n",
       "      <td>-1.499174</td>\n",
       "      <td>-1.917677</td>\n",
       "      <td>-0.076299</td>\n",
       "      <td>-0.146729</td>\n",
       "    </tr>\n",
       "  </tbody>\n",
       "</table>\n",
       "<p>398 rows × 4 columns</p>\n",
       "</div>"
      ],
      "text/plain": [
       "          PC1       PC2       PC3       PC4\n",
       "0    2.458499  0.898887  0.558448 -0.423715\n",
       "1    3.078985  1.033490  0.291333 -0.274644\n",
       "2    2.803467  1.143924  0.263812 -0.558292\n",
       "3    2.676113  0.976921  0.463794 -0.368593\n",
       "4    2.744790  1.194988  0.211261 -0.692055\n",
       "..        ...       ...       ...       ...\n",
       "393 -0.930608 -1.287413 -0.855508 -0.822127\n",
       "394 -3.288242 -2.001227  0.703475  1.270056\n",
       "395 -0.733164 -0.486275 -1.643532 -1.829605\n",
       "396 -1.490928 -1.766160 -0.221573 -0.357864\n",
       "397 -1.499174 -1.917677 -0.076299 -0.146729\n",
       "\n",
       "[398 rows x 4 columns]"
      ]
     },
     "execution_count": 28,
     "metadata": {},
     "output_type": "execute_result"
    }
   ],
   "source": [
    "pca1 = PCA(n_components=4)\n",
    "x=pca1.fit_transform(X)\n",
    "X = pd.DataFrame(data=x,columns=['PC1','PC2','PC3','PC4'])\n",
    "X"
   ]
  },
  {
   "cell_type": "markdown",
   "id": "7d8cba98",
   "metadata": {},
   "source": [
    "### Training and testing dataset split on X and Y for model building\n",
    "This is a process of supervised learning where we train algorithms that to classify data or predict outcomes accurately.\n",
    "\n",
    "Train test split is a model validation process which allows to simulate how our model would perform with new data. \n",
    "\n",
    "Data is divided into train and test sets. Train set is used for model building and test set is used to validate the performance of the model.\n",
    "\n",
    "Train data = 80%\n",
    "Test data = 20%\n"
   ]
  },
  {
   "cell_type": "code",
   "execution_count": 29,
   "id": "833f69a8",
   "metadata": {},
   "outputs": [
    {
     "name": "stdout",
     "output_type": "stream",
     "text": [
      "Shape of Training data (318, 4) (318,)\n",
      "Shape of Testing data (80, 4) (80,)\n"
     ]
    }
   ],
   "source": [
    "from sklearn.model_selection import train_test_split\n",
    "X_train, X_test, y_train, y_test = train_test_split(X, y, test_size=0.2)\n",
    "print(\"Shape of Training data\", X_train.shape, y_train.shape)\n",
    "print(\"Shape of Testing data\", X_test.shape, y_test.shape)"
   ]
  },
  {
   "cell_type": "markdown",
   "id": "840f90c1",
   "metadata": {},
   "source": [
    "## Machine Learning Model\n",
    "\n",
    "Machine learning model are those model which are designed to recognize certain types of pattern. A model can be trained over a set of data, it can be used to apply for the previously unseen data and make predictions about those data.\n",
    "\n",
    "In this project supervised learning models are used, which  uses a training set to teach models to yield the desired output. Training dataset contains inputs and correct outputs, which allow the model to learn over time. Prediction is made after the model is trained and fitted from training dataset.\n",
    "\n",
    "Supervised learning can be separated into two types of problems—classification and regression. In this project regression models are used.\n",
    "\n",
    "Regression Model provides a function with a statistical method which determines  the relationship between one dependent variable (usually denoted by Y) and a series of other variables (known as independent variables).\n",
    "\n",
    "Following models are used in the project:\n",
    "\n",
    "Lasso Regression Model\n",
    "\n",
    "Linear Regression Model\n",
    "\n",
    "Ridge Regression Model\n",
    "\n",
    "Random Forest Regression Model"
   ]
  },
  {
   "cell_type": "markdown",
   "id": "eb61a642",
   "metadata": {},
   "source": [
    "### Model Build"
   ]
  },
  {
   "cell_type": "code",
   "execution_count": 30,
   "id": "dc69bbf3",
   "metadata": {},
   "outputs": [],
   "source": [
    "from prettytable import PrettyTable\n",
    "x = PrettyTable()\n",
    "x1 = PrettyTable()\n",
    "x.field_names = [\"Model\", \"Train Score\", \"Test Score\", \"R2 Score\", \"Mean Absolute Error\", \"Mean Squared Error\"]\n",
    "x1.field_names = [\"Model\", \"Maximum Score K-fold Cross Validation\"]"
   ]
  },
  {
   "cell_type": "markdown",
   "id": "0e30d297",
   "metadata": {},
   "source": [
    "### Model 1.  Lasso Regression Model\n",
    "\n",
    "Lasso regression is a type of linear regression that uses shrinkage. Shrinkage is where data values are shrunk towards a central point, like the mean.\n",
    "\n",
    "The acronym “LASSO” stands for Least Absolute Shrinkage and Selection Operator.\n",
    "\n",
    "Tuning Lasso Hyperparameters: default hyperparameter of alpha=1.0 is set.\n"
   ]
  },
  {
   "cell_type": "code",
   "execution_count": 31,
   "id": "ffde881e",
   "metadata": {},
   "outputs": [],
   "source": [
    "# Create an instance of Lasso Regression implementation\n",
    "lasso = Lasso(alpha=1.0)\n",
    "# Lasso model fit\n",
    "model1 =lasso.fit(X_train, y_train)"
   ]
  },
  {
   "cell_type": "code",
   "execution_count": 32,
   "id": "ca036182",
   "metadata": {},
   "outputs": [
    {
     "data": {
      "text/html": [
       "<div>\n",
       "<style scoped>\n",
       "    .dataframe tbody tr th:only-of-type {\n",
       "        vertical-align: middle;\n",
       "    }\n",
       "\n",
       "    .dataframe tbody tr th {\n",
       "        vertical-align: top;\n",
       "    }\n",
       "\n",
       "    .dataframe thead th {\n",
       "        text-align: right;\n",
       "    }\n",
       "</style>\n",
       "<table border=\"1\" class=\"dataframe\">\n",
       "  <thead>\n",
       "    <tr style=\"text-align: right;\">\n",
       "      <th></th>\n",
       "      <th>Actual_Value</th>\n",
       "      <th>Predicted_Value</th>\n",
       "    </tr>\n",
       "  </thead>\n",
       "  <tbody>\n",
       "    <tr>\n",
       "      <th>289</th>\n",
       "      <td>16.9</td>\n",
       "      <td>16.969406</td>\n",
       "    </tr>\n",
       "    <tr>\n",
       "      <th>301</th>\n",
       "      <td>34.2</td>\n",
       "      <td>27.221282</td>\n",
       "    </tr>\n",
       "    <tr>\n",
       "      <th>147</th>\n",
       "      <td>24.0</td>\n",
       "      <td>27.417681</td>\n",
       "    </tr>\n",
       "    <tr>\n",
       "      <th>192</th>\n",
       "      <td>22.0</td>\n",
       "      <td>21.146370</td>\n",
       "    </tr>\n",
       "    <tr>\n",
       "      <th>225</th>\n",
       "      <td>17.5</td>\n",
       "      <td>21.488330</td>\n",
       "    </tr>\n",
       "    <tr>\n",
       "      <th>...</th>\n",
       "      <td>...</td>\n",
       "      <td>...</td>\n",
       "    </tr>\n",
       "    <tr>\n",
       "      <th>196</th>\n",
       "      <td>24.5</td>\n",
       "      <td>28.473176</td>\n",
       "    </tr>\n",
       "    <tr>\n",
       "      <th>74</th>\n",
       "      <td>13.0</td>\n",
       "      <td>15.100242</td>\n",
       "    </tr>\n",
       "    <tr>\n",
       "      <th>183</th>\n",
       "      <td>25.0</td>\n",
       "      <td>28.107792</td>\n",
       "    </tr>\n",
       "    <tr>\n",
       "      <th>274</th>\n",
       "      <td>20.3</td>\n",
       "      <td>25.866491</td>\n",
       "    </tr>\n",
       "    <tr>\n",
       "      <th>42</th>\n",
       "      <td>12.0</td>\n",
       "      <td>11.006302</td>\n",
       "    </tr>\n",
       "  </tbody>\n",
       "</table>\n",
       "<p>80 rows × 2 columns</p>\n",
       "</div>"
      ],
      "text/plain": [
       "     Actual_Value  Predicted_Value\n",
       "289          16.9        16.969406\n",
       "301          34.2        27.221282\n",
       "147          24.0        27.417681\n",
       "192          22.0        21.146370\n",
       "225          17.5        21.488330\n",
       "..            ...              ...\n",
       "196          24.5        28.473176\n",
       "74           13.0        15.100242\n",
       "183          25.0        28.107792\n",
       "274          20.3        25.866491\n",
       "42           12.0        11.006302\n",
       "\n",
       "[80 rows x 2 columns]"
      ]
     },
     "execution_count": 32,
     "metadata": {},
     "output_type": "execute_result"
    }
   ],
   "source": [
    "# Prediction:\n",
    "y_pred_Lasso = model1.predict(X_test)\n",
    "y_act = y_test\n",
    "pd.DataFrame({\"Actual_Value\": y_act, \"Predicted_Value\": y_pred_Lasso})"
   ]
  },
  {
   "cell_type": "code",
   "execution_count": 33,
   "id": "8c1adbf5",
   "metadata": {},
   "outputs": [
    {
     "name": "stdout",
     "output_type": "stream",
     "text": [
      "Mean Absolute Error is: 2.695456674921911\n",
      "Mean Square Error is: 13.136143305111691\n",
      "The R2 Score for Lasso Regression Model is: 0.7786802728665613\n",
      "+------------------+--------------------+--------------------+--------------------+---------------------+--------------------+\n",
      "|      Model       |    Train Score     |     Test Score     |      R2 Score      | Mean Absolute Error | Mean Squared Error |\n",
      "+------------------+--------------------+--------------------+--------------------+---------------------+--------------------+\n",
      "| Lasso Regression | 0.7574488867641461 | 0.7786802728665613 | 0.7786802728665613 |  2.695456674921911  | 13.136143305111691 |\n",
      "+------------------+--------------------+--------------------+--------------------+---------------------+--------------------+\n"
     ]
    }
   ],
   "source": [
    "from sklearn.metrics import mean_absolute_error, mean_squared_error, r2_score\n",
    "from sklearn.model_selection import cross_val_score\n",
    "from sklearn.model_selection import KFold\n",
    "\n",
    "#Score Calculation\n",
    "ls_train_score = model1.score(X_train, y_train)\n",
    "ls_test_score = model1.score(X_test, y_test)\n",
    "ls_mae = mean_absolute_error(y_act, y_pred_Lasso)\n",
    "ls_mse = mean_squared_error(y_act, y_pred_Lasso)\n",
    "ls_r2_score= r2_score(y_act, y_pred_Lasso)\n",
    "print('Mean Absolute Error is:', ls_mae)\n",
    "print('Mean Square Error is:',ls_mse)\n",
    "print('The R2 Score for Lasso Regression Model is:',ls_r2_score)\n",
    "\n",
    "x.add_row([\"Lasso Regression\", ls_train_score, ls_test_score,ls_r2_score,  ls_mae, ls_mse])\n",
    "\n",
    "print(x)"
   ]
  },
  {
   "cell_type": "markdown",
   "id": "2cd3cc24",
   "metadata": {},
   "source": [
    "###  K-fold Cross Validation, n is set as 5"
   ]
  },
  {
   "cell_type": "code",
   "execution_count": 34,
   "id": "6a83b126",
   "metadata": {},
   "outputs": [
    {
     "name": "stdout",
     "output_type": "stream",
     "text": [
      "Score of Lasso Regression Model after Cross Validation: [0.75310832 0.7428883  0.80161603 0.71535889 0.76688749]\n",
      "+------------------+---------------------------------------+\n",
      "|      Model       | Maximum Score K-fold Cross Validation |\n",
      "+------------------+---------------------------------------+\n",
      "| Lasso Regression |           0.8016160275922506          |\n",
      "+------------------+---------------------------------------+\n"
     ]
    }
   ],
   "source": [
    "c1= cross_val_score(model1,X, y,cv=KFold(n_splits=5,shuffle=True))\n",
    "print(\"Score of Lasso Regression Model after Cross Validation:\",c1)\n",
    "\n",
    "x1.add_row([\"Lasso Regression\", c1.max()])\n",
    "print(x1)"
   ]
  },
  {
   "cell_type": "markdown",
   "id": "b45185c6",
   "metadata": {},
   "source": [
    "### Model 2. Linear Regression Model\n",
    "\n",
    "A linear regression is a model where the relationship between inputs and outputs is a straight line.\n",
    "\n",
    "The relationship between a dependent variable y, and one or more than one independent variable x.\n",
    "\n",
    "The dependent variable is also called the response variable. Independent variables are also called explanatory or predictor variables."
   ]
  },
  {
   "cell_type": "code",
   "execution_count": 35,
   "id": "1c3400f2",
   "metadata": {},
   "outputs": [],
   "source": [
    "from sklearn.linear_model import LinearRegression\n",
    "lr=LinearRegression()\n",
    "model2=lr.fit(X_train, y_train)"
   ]
  },
  {
   "cell_type": "code",
   "execution_count": 36,
   "id": "456494d4",
   "metadata": {},
   "outputs": [
    {
     "data": {
      "text/html": [
       "<div>\n",
       "<style scoped>\n",
       "    .dataframe tbody tr th:only-of-type {\n",
       "        vertical-align: middle;\n",
       "    }\n",
       "\n",
       "    .dataframe tbody tr th {\n",
       "        vertical-align: top;\n",
       "    }\n",
       "\n",
       "    .dataframe thead th {\n",
       "        text-align: right;\n",
       "    }\n",
       "</style>\n",
       "<table border=\"1\" class=\"dataframe\">\n",
       "  <thead>\n",
       "    <tr style=\"text-align: right;\">\n",
       "      <th></th>\n",
       "      <th>Actual_Value</th>\n",
       "      <th>Predicted_Value</th>\n",
       "    </tr>\n",
       "  </thead>\n",
       "  <tbody>\n",
       "    <tr>\n",
       "      <th>289</th>\n",
       "      <td>16.9</td>\n",
       "      <td>16.599981</td>\n",
       "    </tr>\n",
       "    <tr>\n",
       "      <th>301</th>\n",
       "      <td>34.2</td>\n",
       "      <td>30.341477</td>\n",
       "    </tr>\n",
       "    <tr>\n",
       "      <th>147</th>\n",
       "      <td>24.0</td>\n",
       "      <td>27.756701</td>\n",
       "    </tr>\n",
       "    <tr>\n",
       "      <th>192</th>\n",
       "      <td>22.0</td>\n",
       "      <td>21.429955</td>\n",
       "    </tr>\n",
       "    <tr>\n",
       "      <th>225</th>\n",
       "      <td>17.5</td>\n",
       "      <td>21.081487</td>\n",
       "    </tr>\n",
       "    <tr>\n",
       "      <th>...</th>\n",
       "      <td>...</td>\n",
       "      <td>...</td>\n",
       "    </tr>\n",
       "    <tr>\n",
       "      <th>196</th>\n",
       "      <td>24.5</td>\n",
       "      <td>26.812324</td>\n",
       "    </tr>\n",
       "    <tr>\n",
       "      <th>74</th>\n",
       "      <td>13.0</td>\n",
       "      <td>12.318013</td>\n",
       "    </tr>\n",
       "    <tr>\n",
       "      <th>183</th>\n",
       "      <td>25.0</td>\n",
       "      <td>28.301845</td>\n",
       "    </tr>\n",
       "    <tr>\n",
       "      <th>274</th>\n",
       "      <td>20.3</td>\n",
       "      <td>26.347375</td>\n",
       "    </tr>\n",
       "    <tr>\n",
       "      <th>42</th>\n",
       "      <td>12.0</td>\n",
       "      <td>9.379460</td>\n",
       "    </tr>\n",
       "  </tbody>\n",
       "</table>\n",
       "<p>80 rows × 2 columns</p>\n",
       "</div>"
      ],
      "text/plain": [
       "     Actual_Value  Predicted_Value\n",
       "289          16.9        16.599981\n",
       "301          34.2        30.341477\n",
       "147          24.0        27.756701\n",
       "192          22.0        21.429955\n",
       "225          17.5        21.081487\n",
       "..            ...              ...\n",
       "196          24.5        26.812324\n",
       "74           13.0        12.318013\n",
       "183          25.0        28.301845\n",
       "274          20.3        26.347375\n",
       "42           12.0         9.379460\n",
       "\n",
       "[80 rows x 2 columns]"
      ]
     },
     "execution_count": 36,
     "metadata": {},
     "output_type": "execute_result"
    }
   ],
   "source": [
    "# Prediction:\n",
    "y_pred_Linear = model2.predict(X_test)\n",
    "y_act = y_test\n",
    "pd.DataFrame({\"Actual_Value\": y_act, \"Predicted_Value\": y_pred_Linear})"
   ]
  },
  {
   "cell_type": "code",
   "execution_count": 37,
   "id": "7cde20e7",
   "metadata": {},
   "outputs": [
    {
     "name": "stdout",
     "output_type": "stream",
     "text": [
      "Mean Absolute Error is: 2.4915639869252333\n",
      "Mean Square Error is: 11.039424364801757\n",
      "The R2 Score for Linear Regression Model is: 0.814006110364416\n",
      "+-------------------+--------------------+--------------------+--------------------+---------------------+--------------------+\n",
      "|       Model       |    Train Score     |     Test Score     |      R2 Score      | Mean Absolute Error | Mean Squared Error |\n",
      "+-------------------+--------------------+--------------------+--------------------+---------------------+--------------------+\n",
      "|  Lasso Regression | 0.7574488867641461 | 0.7786802728665613 | 0.7786802728665613 |  2.695456674921911  | 13.136143305111691 |\n",
      "| Linear Regression | 0.7946946202039824 | 0.814006110364416  | 0.814006110364416  |  2.4915639869252333 | 11.039424364801757 |\n",
      "+-------------------+--------------------+--------------------+--------------------+---------------------+--------------------+\n"
     ]
    }
   ],
   "source": [
    "#Score Calculation\n",
    "\n",
    "lr_train_score = model2.score(X_train, y_train)\n",
    "lr_test_score = model2.score(X_test, y_test)\n",
    "lr_mae = mean_absolute_error(y_act, y_pred_Linear)\n",
    "lr_mse = mean_squared_error(y_act, y_pred_Linear)\n",
    "lr_r2_score= r2_score(y_act, y_pred_Linear)\n",
    "print('Mean Absolute Error is:', lr_mae)\n",
    "print('Mean Square Error is:',lr_mse)\n",
    "print('The R2 Score for Linear Regression Model is:',lr_r2_score)\n",
    "\n",
    "x.add_row([\"Linear Regression\", lr_train_score, lr_test_score,lr_r2_score,  lr_mae, lr_mse ])\n",
    "\n",
    "print(x)"
   ]
  },
  {
   "cell_type": "markdown",
   "id": "b589da3b",
   "metadata": {},
   "source": [
    "### K-fold Cross Validation"
   ]
  },
  {
   "cell_type": "code",
   "execution_count": 38,
   "id": "e37c2302",
   "metadata": {},
   "outputs": [
    {
     "name": "stdout",
     "output_type": "stream",
     "text": [
      "Score of Linear Regression Model after Cross Validation: [0.79768457 0.80141986 0.76779653 0.76110934 0.81995874]\n",
      "+-------------------+---------------------------------------+\n",
      "|       Model       | Maximum Score K-fold Cross Validation |\n",
      "+-------------------+---------------------------------------+\n",
      "|  Lasso Regression |           0.8016160275922506          |\n",
      "| Linear Regression |           0.8199587421848273          |\n",
      "+-------------------+---------------------------------------+\n"
     ]
    }
   ],
   "source": [
    "c2= cross_val_score(model2,X, y,cv=KFold(n_splits=5,shuffle=True))\n",
    "print(\"Score of Linear Regression Model after Cross Validation:\",c2)\n",
    "\n",
    "x1.add_row([\"Linear Regression\", c2.max()])\n",
    "print(x1)"
   ]
  },
  {
   "cell_type": "markdown",
   "id": "652798a1",
   "metadata": {},
   "source": [
    "### Model 3. Ridge Regression Model\n",
    "\n",
    "Ridge regression is a supervised learning method of estimating the coefficients of multiple-regression models in scenarios where the independent variables are highly correlated.\n",
    "\n",
    "It is a model tuning method that is used to analyze any data that suffers from multicollinearity.\n",
    "\n",
    "It shrinks the parameters. Therefore, it is used to prevent multicollinearity\n",
    "\n",
    "It reduces the model complexity by coefficient shrinkage."
   ]
  },
  {
   "cell_type": "code",
   "execution_count": 39,
   "id": "ea5a46b1",
   "metadata": {},
   "outputs": [
    {
     "data": {
      "text/html": [
       "<div>\n",
       "<style scoped>\n",
       "    .dataframe tbody tr th:only-of-type {\n",
       "        vertical-align: middle;\n",
       "    }\n",
       "\n",
       "    .dataframe tbody tr th {\n",
       "        vertical-align: top;\n",
       "    }\n",
       "\n",
       "    .dataframe thead th {\n",
       "        text-align: right;\n",
       "    }\n",
       "</style>\n",
       "<table border=\"1\" class=\"dataframe\">\n",
       "  <thead>\n",
       "    <tr style=\"text-align: right;\">\n",
       "      <th></th>\n",
       "      <th>Actual_Value</th>\n",
       "      <th>Predicted_Value</th>\n",
       "    </tr>\n",
       "  </thead>\n",
       "  <tbody>\n",
       "    <tr>\n",
       "      <th>289</th>\n",
       "      <td>16.9</td>\n",
       "      <td>16.604907</td>\n",
       "    </tr>\n",
       "    <tr>\n",
       "      <th>301</th>\n",
       "      <td>34.2</td>\n",
       "      <td>30.319482</td>\n",
       "    </tr>\n",
       "    <tr>\n",
       "      <th>147</th>\n",
       "      <td>24.0</td>\n",
       "      <td>27.753011</td>\n",
       "    </tr>\n",
       "    <tr>\n",
       "      <th>192</th>\n",
       "      <td>22.0</td>\n",
       "      <td>21.429048</td>\n",
       "    </tr>\n",
       "    <tr>\n",
       "      <th>225</th>\n",
       "      <td>17.5</td>\n",
       "      <td>21.085092</td>\n",
       "    </tr>\n",
       "    <tr>\n",
       "      <th>...</th>\n",
       "      <td>...</td>\n",
       "      <td>...</td>\n",
       "    </tr>\n",
       "    <tr>\n",
       "      <th>196</th>\n",
       "      <td>24.5</td>\n",
       "      <td>26.821909</td>\n",
       "    </tr>\n",
       "    <tr>\n",
       "      <th>74</th>\n",
       "      <td>13.0</td>\n",
       "      <td>12.339710</td>\n",
       "    </tr>\n",
       "    <tr>\n",
       "      <th>183</th>\n",
       "      <td>25.0</td>\n",
       "      <td>28.298898</td>\n",
       "    </tr>\n",
       "    <tr>\n",
       "      <th>274</th>\n",
       "      <td>20.3</td>\n",
       "      <td>26.343295</td>\n",
       "    </tr>\n",
       "    <tr>\n",
       "      <th>42</th>\n",
       "      <td>12.0</td>\n",
       "      <td>9.394816</td>\n",
       "    </tr>\n",
       "  </tbody>\n",
       "</table>\n",
       "<p>80 rows × 2 columns</p>\n",
       "</div>"
      ],
      "text/plain": [
       "     Actual_Value  Predicted_Value\n",
       "289          16.9        16.604907\n",
       "301          34.2        30.319482\n",
       "147          24.0        27.753011\n",
       "192          22.0        21.429048\n",
       "225          17.5        21.085092\n",
       "..            ...              ...\n",
       "196          24.5        26.821909\n",
       "74           13.0        12.339710\n",
       "183          25.0        28.298898\n",
       "274          20.3        26.343295\n",
       "42           12.0         9.394816\n",
       "\n",
       "[80 rows x 2 columns]"
      ]
     },
     "execution_count": 39,
     "metadata": {},
     "output_type": "execute_result"
    }
   ],
   "source": [
    "from sklearn.linear_model import Ridge\n",
    "rd = Ridge()\n",
    "model3 = rd.fit(X_train, y_train)\n",
    "\n",
    "# Prediction:\n",
    "y_pred_ridge = model3.predict(X_test)\n",
    "y_act = y_test\n",
    "pd.DataFrame({\"Actual_Value\": y_act, \"Predicted_Value\": y_pred_ridge})"
   ]
  },
  {
   "cell_type": "code",
   "execution_count": 40,
   "id": "6e9d16b2",
   "metadata": {},
   "outputs": [
    {
     "name": "stdout",
     "output_type": "stream",
     "text": [
      "Mean Absolute Error is: 2.4906183395600534\n",
      "Mean Square Error is: 11.038022214704926\n",
      "The R2 Score for Ridge Regression Model is: 0.814029734001097\n",
      "+-------------------+--------------------+--------------------+--------------------+---------------------+--------------------+\n",
      "|       Model       |    Train Score     |     Test Score     |      R2 Score      | Mean Absolute Error | Mean Squared Error |\n",
      "+-------------------+--------------------+--------------------+--------------------+---------------------+--------------------+\n",
      "|  Lasso Regression | 0.7574488867641461 | 0.7786802728665613 | 0.7786802728665613 |  2.695456674921911  | 13.136143305111691 |\n",
      "| Linear Regression | 0.7946946202039824 | 0.814006110364416  | 0.814006110364416  |  2.4915639869252333 | 11.039424364801757 |\n",
      "|  Ridge Regression | 0.7946925516478933 | 0.814029734001097  | 0.814029734001097  |  2.4906183395600534 | 11.038022214704926 |\n",
      "+-------------------+--------------------+--------------------+--------------------+---------------------+--------------------+\n"
     ]
    }
   ],
   "source": [
    "# Scores:\n",
    "rr_train_score = model3.score(X_train, y_train)\n",
    "rr_test_score = model3.score(X_test, y_test)\n",
    "rr_mae = mean_absolute_error(y_act, y_pred_ridge)\n",
    "rr_mse = mean_squared_error(y_act, y_pred_ridge)\n",
    "rr_r2_score= r2_score(y_act, y_pred_ridge)\n",
    "print('Mean Absolute Error is:', rr_mae)\n",
    "print('Mean Square Error is:',rr_mse)\n",
    "print('The R2 Score for Ridge Regression Model is:',rr_r2_score)\n",
    "\n",
    "x.add_row([\"Ridge Regression\", rr_train_score, rr_test_score,rr_r2_score,  rr_mae, rr_mse ])\n",
    "\n",
    "print(x)"
   ]
  },
  {
   "cell_type": "markdown",
   "id": "ae0c76e7",
   "metadata": {},
   "source": [
    "### K-Fold Cross Validation"
   ]
  },
  {
   "cell_type": "code",
   "execution_count": 41,
   "id": "03c65f5e",
   "metadata": {},
   "outputs": [
    {
     "name": "stdout",
     "output_type": "stream",
     "text": [
      "Score of Ridge Regression Model after Cross Validation: [0.79741673 0.79013716 0.79905907 0.81859428 0.75769113]\n",
      "+-------------------+---------------------------------------+\n",
      "|       Model       | Maximum Score K-fold Cross Validation |\n",
      "+-------------------+---------------------------------------+\n",
      "|  Lasso Regression |           0.8016160275922506          |\n",
      "| Linear Regression |           0.8199587421848273          |\n",
      "|  Ridge Regression |           0.8185942847705004          |\n",
      "+-------------------+---------------------------------------+\n"
     ]
    }
   ],
   "source": [
    "c3= cross_val_score(model3,X, y,cv=KFold(n_splits=5,shuffle=True))\n",
    "print(\"Score of Ridge Regression Model after Cross Validation:\",c3)\n",
    "\n",
    "x1.add_row([\"Ridge Regression\", c3.max()])\n",
    "print(x1)"
   ]
  },
  {
   "cell_type": "markdown",
   "id": "975a6e0d",
   "metadata": {},
   "source": [
    "### Model 4. Random Forest Regression\n",
    "\n",
    "Random Forest Regression is a supervised learning algorithm that uses ensemble learning method for regression.\n",
    "\n",
    "It is used to solve a variety of business problems where the company needs to predict a continuous value.\n",
    "\n",
    "A random forest is a meta estimator that fits several classifying decision trees on various sub-samples of the dataset and uses averaging to improve the predictive accuracy and control over-fitting."
   ]
  },
  {
   "cell_type": "code",
   "execution_count": 42,
   "id": "15c336e2",
   "metadata": {},
   "outputs": [
    {
     "data": {
      "text/html": [
       "<div>\n",
       "<style scoped>\n",
       "    .dataframe tbody tr th:only-of-type {\n",
       "        vertical-align: middle;\n",
       "    }\n",
       "\n",
       "    .dataframe tbody tr th {\n",
       "        vertical-align: top;\n",
       "    }\n",
       "\n",
       "    .dataframe thead th {\n",
       "        text-align: right;\n",
       "    }\n",
       "</style>\n",
       "<table border=\"1\" class=\"dataframe\">\n",
       "  <thead>\n",
       "    <tr style=\"text-align: right;\">\n",
       "      <th></th>\n",
       "      <th>Actual_Value</th>\n",
       "      <th>Predicted_Value</th>\n",
       "    </tr>\n",
       "  </thead>\n",
       "  <tbody>\n",
       "    <tr>\n",
       "      <th>289</th>\n",
       "      <td>16.9</td>\n",
       "      <td>15.846</td>\n",
       "    </tr>\n",
       "    <tr>\n",
       "      <th>301</th>\n",
       "      <td>34.2</td>\n",
       "      <td>33.043</td>\n",
       "    </tr>\n",
       "    <tr>\n",
       "      <th>147</th>\n",
       "      <td>24.0</td>\n",
       "      <td>26.661</td>\n",
       "    </tr>\n",
       "    <tr>\n",
       "      <th>192</th>\n",
       "      <td>22.0</td>\n",
       "      <td>19.268</td>\n",
       "    </tr>\n",
       "    <tr>\n",
       "      <th>225</th>\n",
       "      <td>17.5</td>\n",
       "      <td>19.527</td>\n",
       "    </tr>\n",
       "    <tr>\n",
       "      <th>...</th>\n",
       "      <td>...</td>\n",
       "      <td>...</td>\n",
       "    </tr>\n",
       "    <tr>\n",
       "      <th>196</th>\n",
       "      <td>24.5</td>\n",
       "      <td>29.775</td>\n",
       "    </tr>\n",
       "    <tr>\n",
       "      <th>74</th>\n",
       "      <td>13.0</td>\n",
       "      <td>11.960</td>\n",
       "    </tr>\n",
       "    <tr>\n",
       "      <th>183</th>\n",
       "      <td>25.0</td>\n",
       "      <td>24.986</td>\n",
       "    </tr>\n",
       "    <tr>\n",
       "      <th>274</th>\n",
       "      <td>20.3</td>\n",
       "      <td>22.616</td>\n",
       "    </tr>\n",
       "    <tr>\n",
       "      <th>42</th>\n",
       "      <td>12.0</td>\n",
       "      <td>12.560</td>\n",
       "    </tr>\n",
       "  </tbody>\n",
       "</table>\n",
       "<p>80 rows × 2 columns</p>\n",
       "</div>"
      ],
      "text/plain": [
       "     Actual_Value  Predicted_Value\n",
       "289          16.9           15.846\n",
       "301          34.2           33.043\n",
       "147          24.0           26.661\n",
       "192          22.0           19.268\n",
       "225          17.5           19.527\n",
       "..            ...              ...\n",
       "196          24.5           29.775\n",
       "74           13.0           11.960\n",
       "183          25.0           24.986\n",
       "274          20.3           22.616\n",
       "42           12.0           12.560\n",
       "\n",
       "[80 rows x 2 columns]"
      ]
     },
     "execution_count": 42,
     "metadata": {},
     "output_type": "execute_result"
    }
   ],
   "source": [
    "Rfg = RandomForestRegressor()\n",
    "model4 = Rfg.fit(X_train, y_train)\n",
    "\n",
    "# Prediction:\n",
    "y_pred_rfg = model4.predict(X_test)\n",
    "y_act = y_test\n",
    "pd.DataFrame({\"Actual_Value\": y_act, \"Predicted_Value\": y_pred_rfg})"
   ]
  },
  {
   "cell_type": "code",
   "execution_count": 43,
   "id": "c0939b97",
   "metadata": {},
   "outputs": [
    {
     "name": "stdout",
     "output_type": "stream",
     "text": [
      "Mean Absolute Error is: 2.0461750000000003\n",
      "Mean Square Error is: 7.995273949999989\n",
      "The R2 Score for Random Forest Regression Model is: 0.8652944164911389\n",
      "+-------------------+--------------------+--------------------+--------------------+---------------------+--------------------+\n",
      "|       Model       |    Train Score     |     Test Score     |      R2 Score      | Mean Absolute Error | Mean Squared Error |\n",
      "+-------------------+--------------------+--------------------+--------------------+---------------------+--------------------+\n",
      "|  Lasso Regression | 0.7574488867641461 | 0.7786802728665613 | 0.7786802728665613 |  2.695456674921911  | 13.136143305111691 |\n",
      "| Linear Regression | 0.7946946202039824 | 0.814006110364416  | 0.814006110364416  |  2.4915639869252333 | 11.039424364801757 |\n",
      "|  Ridge Regression | 0.7946925516478933 | 0.814029734001097  | 0.814029734001097  |  2.4906183395600534 | 11.038022214704926 |\n",
      "|    RandomForest   | 0.9798832880990173 | 0.8652944164911389 | 0.8652944164911389 |  2.0461750000000003 | 7.995273949999989  |\n",
      "+-------------------+--------------------+--------------------+--------------------+---------------------+--------------------+\n"
     ]
    }
   ],
   "source": [
    "rf_train_score = model4.score(X_train, y_train)\n",
    "rf_test_score = model4.score(X_test, y_test)\n",
    "rf_mae = mean_absolute_error(y_act, y_pred_rfg)\n",
    "rf_mse = mean_squared_error(y_act, y_pred_rfg)\n",
    "rf_r2_score= r2_score(y_test, y_pred_rfg)\n",
    "print('Mean Absolute Error is:', rf_mae)\n",
    "print('Mean Square Error is:',rf_mse)\n",
    "print('The R2 Score for Random Forest Regression Model is:',rf_r2_score)\n",
    "\n",
    "x.add_row([\"RandomForest\", rf_train_score, rf_test_score,rf_r2_score,  rf_mae, rf_mse ])\n",
    "\n",
    "print(x)"
   ]
  },
  {
   "cell_type": "markdown",
   "id": "2d82a993",
   "metadata": {},
   "source": [
    "### K-fold Cross Validation"
   ]
  },
  {
   "cell_type": "code",
   "execution_count": 44,
   "id": "bf77f7c3",
   "metadata": {},
   "outputs": [
    {
     "name": "stdout",
     "output_type": "stream",
     "text": [
      "Score of RandomForest Regression Model after Cross Validation: [0.83219613 0.85498109 0.87355491 0.83992975 0.83932555]\n",
      "+-------------------------+---------------------------------------+\n",
      "|          Model          | Maximum Score K-fold Cross Validation |\n",
      "+-------------------------+---------------------------------------+\n",
      "|     Lasso Regression    |           0.8016160275922506          |\n",
      "|    Linear Regression    |           0.8199587421848273          |\n",
      "|     Ridge Regression    |           0.8185942847705004          |\n",
      "| RandomForest Regression |           0.8735549117593974          |\n",
      "+-------------------------+---------------------------------------+\n"
     ]
    }
   ],
   "source": [
    "c4= cross_val_score(model4,X, y,cv=KFold(n_splits=5,shuffle=True))\n",
    "print(\"Score of RandomForest Regression Model after Cross Validation:\",c4)\n",
    "\n",
    "x1.add_row([\"RandomForest Regression\", c4.max()])\n",
    "print(x1)"
   ]
  },
  {
   "cell_type": "markdown",
   "id": "ed4f1e54",
   "metadata": {},
   "source": [
    "### Comparison of Scores and Error between models"
   ]
  },
  {
   "cell_type": "code",
   "execution_count": 45,
   "id": "0954d024",
   "metadata": {},
   "outputs": [
    {
     "name": "stdout",
     "output_type": "stream",
     "text": [
      "+-------------------+--------------------+--------------------+--------------------+---------------------+--------------------+\n",
      "|       Model       |    Train Score     |     Test Score     |      R2 Score      | Mean Absolute Error | Mean Squared Error |\n",
      "+-------------------+--------------------+--------------------+--------------------+---------------------+--------------------+\n",
      "|  Lasso Regression | 0.7574488867641461 | 0.7786802728665613 | 0.7786802728665613 |  2.695456674921911  | 13.136143305111691 |\n",
      "| Linear Regression | 0.7946946202039824 | 0.814006110364416  | 0.814006110364416  |  2.4915639869252333 | 11.039424364801757 |\n",
      "|  Ridge Regression | 0.7946925516478933 | 0.814029734001097  | 0.814029734001097  |  2.4906183395600534 | 11.038022214704926 |\n",
      "|    RandomForest   | 0.9798832880990173 | 0.8652944164911389 | 0.8652944164911389 |  2.0461750000000003 | 7.995273949999989  |\n",
      "+-------------------+--------------------+--------------------+--------------------+---------------------+--------------------+\n"
     ]
    }
   ],
   "source": [
    "print(x)"
   ]
  },
  {
   "cell_type": "markdown",
   "id": "275276bf",
   "metadata": {},
   "source": [
    "### K-Fold Cross Validation Comparison Among all the 4 models\n",
    "\n",
    "K-fold cross validation technique is attempted.\n",
    "\n",
    "Itis a superior technique for validation of  the performance of our model. \n",
    "\n",
    "It evaluates the model using different chunks of the data set as the validation set.\n",
    "\n",
    "Our data is divided  into K-folds. K represents the number of folds into which we want to split your data. I have selected 5 number of folds in this project.\n",
    "\n",
    "The data set divides into five sections. In different iterations, one part becomes the validation set and other parts are used for training.\n",
    "\n",
    "Different chunks of validation and training set are selected over 5 different iteration."
   ]
  },
  {
   "cell_type": "code",
   "execution_count": 46,
   "id": "f0295add",
   "metadata": {},
   "outputs": [
    {
     "name": "stdout",
     "output_type": "stream",
     "text": [
      "+-------------------------+---------------------------------------+\n",
      "|          Model          | Maximum Score K-fold Cross Validation |\n",
      "+-------------------------+---------------------------------------+\n",
      "|     Lasso Regression    |           0.8016160275922506          |\n",
      "|    Linear Regression    |           0.8199587421848273          |\n",
      "|     Ridge Regression    |           0.8185942847705004          |\n",
      "| RandomForest Regression |           0.8735549117593974          |\n",
      "+-------------------------+---------------------------------------+\n"
     ]
    }
   ],
   "source": [
    "print(x1)"
   ]
  },
  {
   "cell_type": "markdown",
   "id": "b5361739",
   "metadata": {},
   "source": [
    "####   It is clear that Random Forest Regression has high mean score of K-Fold Cross Validation (this mean is taken from mean of all 5 score taken as number of split is set 5)"
   ]
  },
  {
   "cell_type": "markdown",
   "id": "bf61e178",
   "metadata": {},
   "source": [
    "### Plot of  Actual vs Predicted values"
   ]
  },
  {
   "cell_type": "markdown",
   "id": "018bd9e6",
   "metadata": {},
   "source": [
    "#### For Lasso Regression Model Vs Linear Regression Model Vs Ridge Regression Model Vs RandomForest Regression Model"
   ]
  },
  {
   "cell_type": "code",
   "execution_count": 47,
   "id": "6cd10ff9",
   "metadata": {},
   "outputs": [
    {
     "data": {
      "image/png": "[encoded data removed]",
      "text/plain": [
       "<Figure size 720x360 with 1 Axes>"
      ]
     },
     "metadata": {},
     "output_type": "display_data"
    },
    {
     "data": {
      "image/png": "[encoded data removed]",
      "text/plain": [
       "<Figure size 720x360 with 1 Axes>"
      ]
     },
     "metadata": {},
     "output_type": "display_data"
    },
    {
     "data": {
      "image/png": "[encoded data removed]",
      "text/plain": [
       "<Figure size 720x360 with 1 Axes>"
      ]
     },
     "metadata": {},
     "output_type": "display_data"
    },
    {
     "data": {
      "image/png": "[encoded data removed]",
      "text/plain": [
       "<Figure size 720x360 with 1 Axes>"
      ]
     },
     "metadata": {},
     "output_type": "display_data"
    }
   ],
   "source": [
    "import warnings\n",
    "warnings.filterwarnings('ignore')\n",
    "plt.figure(figsize=(10, 5))\n",
    "sns.regplot(y_test, y_pred_Lasso, line_kws={'color':'red'}, ci=None)\n",
    "\n",
    "plt.xlabel('Actual Value')\n",
    "plt.ylabel('Predicted Value')\n",
    "plt.title('Prediction vs Actual (Lasso)')\n",
    "\n",
    "plt.show()\n",
    "####################################################\n",
    "\n",
    "\n",
    "warnings.filterwarnings('ignore')\n",
    "plt.figure(figsize=(10, 5))\n",
    "sns.regplot(y_test, y_pred_Linear, line_kws={'color':'red'}, ci=None)\n",
    "\n",
    "plt.xlabel('Actual Value')\n",
    "plt.ylabel('Predicted Value')\n",
    "plt.title('Prediction vs Actual (Linear)')\n",
    "\n",
    "plt.show()\n",
    "#######################################################\n",
    "\n",
    "\n",
    "warnings.filterwarnings('ignore')\n",
    "plt.figure(figsize=(10, 5))\n",
    "sns.regplot(y_test, y_pred_ridge, line_kws={'color':'red'}, ci=None)\n",
    "\n",
    "plt.xlabel('Actual Value')\n",
    "plt.ylabel('Predicted Value')\n",
    "plt.title('Prediction vs Actual (Ridge)')\n",
    "\n",
    "plt.show()\n",
    "\n",
    "#######################################################\n",
    "\n",
    "\n",
    "warnings.filterwarnings('ignore')\n",
    "plt.figure(figsize=(10, 5))\n",
    "sns.regplot(y_test, y_pred_rfg, line_kws={'color':'red'}, ci=None)\n",
    "\n",
    "plt.xlabel('Actual Value')\n",
    "plt.ylabel('Predicted Value')\n",
    "plt.title('Prediction vs Actual (RandomForest)')\n",
    "\n",
    "plt.show()"
   ]
  },
  {
   "cell_type": "markdown",
   "id": "e7f6484a",
   "metadata": {},
   "source": [
    "Among all of the four model used RandomForest Regression Model shows the highest R2 score among all which is 0.8972."
   ]
  },
  {
   "cell_type": "markdown",
   "id": "70af9201",
   "metadata": {},
   "source": [
    "# Conclusion\n",
    "\n",
    "Four different supervised machine learning regression models are used on the training set of the mpg data, and the predictions from each of the model are also done.\n",
    "\n",
    "### Mean  Absolute Error\n",
    "\n",
    "It is seen that Random Forest Regression Model has minimum Mean Absolute Error of 2.04 among all of the models which is good.\n",
    "\n",
    "\n",
    "### Mean Squared Error\n",
    "\n",
    "It is seen that Random Forest Regression Model has minimum Mean Squared Error of 7.99 among all of the models which s good.\n",
    "\n",
    "### Test Score\n",
    "\n",
    "It is concluded that Random Forest Regression Model perform well than all other model as its test score of around 86%\n",
    "\n",
    "\n",
    "### Result from R2 Score\n",
    "\n",
    "It is concluded that Random Forest Regression Model perform well than all other model as its r2 score is around 86% .\n",
    "\n",
    "### Result from K-fold Cross Validation\n",
    "\n",
    "After K-fold cross validation is done, it is found that Random Forest Regression Model has highest score of 87% among all of other models\n",
    "\n",
    "We can say that the mileage can be calculated(or predicted) for the cars when other fundamental information related to the cars are given. So for this, Random Forest Regression Model provides the best predicted value of mpg given the fundamental dimensional factors(cylinders, horsepower, weight, Acceleration, model year, Origin)  of the cars. Thus, comparing all the metrics it can be concluded that Random Forest Regression Model provides the best result for the dataset chosen."
   ]
  },
  {
   "cell_type": "code",
   "execution_count": null,
   "id": "8813913a",
   "metadata": {},
   "outputs": [],
   "source": []
  }
 ],
 "metadata": {
  "kernelspec": {
   "display_name": "Python 3 (ipykernel)",
   "language": "python",
   "name": "python3"
  },
  "language_info": {
   "codemirror_mode": {
    "name": "ipython",
    "version": 3
   },
   "file_extension": ".py",
   "mimetype": "text/x-python",
   "name": "python",
   "nbconvert_exporter": "python",
   "pygments_lexer": "ipython3",
   "version": "3.9.12"
  }
 },
 "nbformat": 4,
 "nbformat_minor": 5
}
